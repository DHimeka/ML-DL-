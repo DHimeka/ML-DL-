{
  "nbformat": 4,
  "nbformat_minor": 0,
  "metadata": {
    "colab": {
      "provenance": [],
      "gpuType": "T4",
      "authorship_tag": "ABX9TyNJ9mArUtrAGJMzX3civCZH",
      "include_colab_link": true
    },
    "kernelspec": {
      "name": "python3",
      "display_name": "Python 3"
    },
    "language_info": {
      "name": "python"
    },
    "accelerator": "GPU"
  },
  "cells": [
    {
      "cell_type": "markdown",
      "metadata": {
        "id": "view-in-github",
        "colab_type": "text"
      },
      "source": [
        "<a href=\"https://colab.research.google.com/github/DHimeka/ML-DL-/blob/main/My_Pytorch1.ipynb\" target=\"_parent\"><img src=\"https://colab.research.google.com/assets/colab-badge.svg\" alt=\"Open In Colab\"/></a>"
      ]
    },
    {
      "cell_type": "markdown",
      "source": [
        "##1. PyTorch Fundamentals\n",
        "\n",
        "Resource notebook:https://github.com/mrdbourke/pytorch-deep-learning/tree/main\n",
        "\n",
        "\n",
        "\n"
      ],
      "metadata": {
        "id": "UujcZq-mRufu"
      }
    },
    {
      "cell_type": "code",
      "execution_count": 204,
      "metadata": {
        "id": "8ziVC5xhJSZl"
      },
      "outputs": [],
      "source": [
        "import torch\n",
        "import pandas as pd\n",
        "import numpy as np\n",
        "import matplotlib.pyplot as plt\n"
      ]
    },
    {
      "cell_type": "code",
      "source": [
        "print(torch.__version__)\n"
      ],
      "metadata": {
        "colab": {
          "base_uri": "https://localhost:8080/"
        },
        "id": "VY0GZJB8QTgH",
        "outputId": "7550a6db-90cb-445d-b033-0b3aeb3a0504"
      },
      "execution_count": 205,
      "outputs": [
        {
          "output_type": "stream",
          "name": "stdout",
          "text": [
            "2.0.1+cu118\n"
          ]
        }
      ]
    },
    {
      "cell_type": "code",
      "source": [
        "!nvidia-smi\n"
      ],
      "metadata": {
        "colab": {
          "base_uri": "https://localhost:8080/"
        },
        "id": "uANbb6EFQYi2",
        "outputId": "c6a31348-92e2-4b49-a108-b11b27d5e4f0"
      },
      "execution_count": 206,
      "outputs": [
        {
          "output_type": "stream",
          "name": "stdout",
          "text": [
            "Sat Sep  9 16:25:40 2023       \n",
            "+-----------------------------------------------------------------------------+\n",
            "| NVIDIA-SMI 525.105.17   Driver Version: 525.105.17   CUDA Version: 12.0     |\n",
            "|-------------------------------+----------------------+----------------------+\n",
            "| GPU  Name        Persistence-M| Bus-Id        Disp.A | Volatile Uncorr. ECC |\n",
            "| Fan  Temp  Perf  Pwr:Usage/Cap|         Memory-Usage | GPU-Util  Compute M. |\n",
            "|                               |                      |               MIG M. |\n",
            "|===============================+======================+======================|\n",
            "|   0  Tesla T4            Off  | 00000000:00:04.0 Off |                    0 |\n",
            "| N/A   53C    P0    29W /  70W |    601MiB / 15360MiB |      0%      Default |\n",
            "|                               |                      |                  N/A |\n",
            "+-------------------------------+----------------------+----------------------+\n",
            "                                                                               \n",
            "+-----------------------------------------------------------------------------+\n",
            "| Processes:                                                                  |\n",
            "|  GPU   GI   CI        PID   Type   Process name                  GPU Memory |\n",
            "|        ID   ID                                                   Usage      |\n",
            "|=============================================================================|\n",
            "+-----------------------------------------------------------------------------+\n"
          ]
        }
      ]
    },
    {
      "cell_type": "markdown",
      "source": [
        "#Indroduction To Tensors\n",
        "\n",
        "###Creating Tensors"
      ],
      "metadata": {
        "id": "XFuxfAyfSY77"
      }
    },
    {
      "cell_type": "code",
      "source": [
        "#scalar\n",
        "scalar=torch.tensor(7)\n",
        "scalar"
      ],
      "metadata": {
        "colab": {
          "base_uri": "https://localhost:8080/"
        },
        "id": "eVR-4m9bSiYz",
        "outputId": "f6a4d215-34b2-45c3-db79-a862d14737e6"
      },
      "execution_count": 207,
      "outputs": [
        {
          "output_type": "execute_result",
          "data": {
            "text/plain": [
              "tensor(7)"
            ]
          },
          "metadata": {},
          "execution_count": 207
        }
      ]
    },
    {
      "cell_type": "code",
      "source": [
        "scalar1=torch.tensor(np.array([[1, 2, 3], [4, 5, 6]]))\n",
        "scalar1"
      ],
      "metadata": {
        "colab": {
          "base_uri": "https://localhost:8080/"
        },
        "id": "uHwfXRCGgf6w",
        "outputId": "d03a9e2e-c736-4a72-c94b-eb56e5d1b4e6"
      },
      "execution_count": 208,
      "outputs": [
        {
          "output_type": "execute_result",
          "data": {
            "text/plain": [
              "tensor([[1, 2, 3],\n",
              "        [4, 5, 6]])"
            ]
          },
          "metadata": {},
          "execution_count": 208
        }
      ]
    },
    {
      "cell_type": "markdown",
      "source": [
        "torch.tensor() : multi-dimensional matrix containing elements of a single data type.\n",
        "torch.tensor() always copies data.\n",
        "\n",
        "More info: https://pytorch.org/docs/stable/tensors.html\n",
        "```\n",
        "torch.tensor(np.array([[1, 2, 3], [4, 5, 6]]))\n",
        "tensor([[ 1,  2,  3],\n",
        "        [ 4,  5,  6]])\n",
        "torch.zeros([2, 4], dtype=torch.int32)\n",
        "tensor([[ 0,  0,  0,  0],\n",
        "        [ 0,  0,  0,  0]], dtype=torch.int32)\n",
        "cuda0 = torch.device('cuda:0')\n",
        "torch.ones([2, 4], dtype=torch.float64, device=cuda0)\n",
        "tensor([[ 1.0000,  1.0000,  1.0000,  1.0000],\n",
        "        [ 1.0000,  1.0000,  1.0000,  1.0000]], dtype=torch.float64, device='cuda:0')\n",
        "\n",
        "x = torch.tensor([[1]])\n",
        "x\n",
        "tensor([[ 1]])\n",
        "x.item()\n",
        "1\n",
        "x = torch.tensor(2.5)\n",
        "x\n",
        "tensor(2.5000)\n",
        "x.item()\n",
        "2.5\n",
        "```\n",
        "\n"
      ],
      "metadata": {
        "id": "vWuP87TcUFsA"
      }
    },
    {
      "cell_type": "code",
      "source": [
        "#Get tensor back as Python int\n",
        "scalar.item()\n"
      ],
      "metadata": {
        "colab": {
          "base_uri": "https://localhost:8080/"
        },
        "id": "vVFmwZXKf6MC",
        "outputId": "e0df0ce9-c782-4142-a8be-f1f3722154f9"
      },
      "execution_count": 209,
      "outputs": [
        {
          "output_type": "execute_result",
          "data": {
            "text/plain": [
              "7"
            ]
          },
          "metadata": {},
          "execution_count": 209
        }
      ]
    },
    {
      "cell_type": "code",
      "source": [
        "scalar.ndim"
      ],
      "metadata": {
        "colab": {
          "base_uri": "https://localhost:8080/"
        },
        "id": "jvFgZWu9xoR5",
        "outputId": "739b9c01-8b53-4244-aa1c-780585e98c4d"
      },
      "execution_count": 210,
      "outputs": [
        {
          "output_type": "execute_result",
          "data": {
            "text/plain": [
              "0"
            ]
          },
          "metadata": {},
          "execution_count": 210
        }
      ]
    },
    {
      "cell_type": "code",
      "source": [
        "x=scalar1[0][1]\n",
        "x.item()"
      ],
      "metadata": {
        "colab": {
          "base_uri": "https://localhost:8080/"
        },
        "id": "NbOg7FU8f2G2",
        "outputId": "dc1923b0-91dd-4033-932f-4100a0c4f17b"
      },
      "execution_count": 211,
      "outputs": [
        {
          "output_type": "execute_result",
          "data": {
            "text/plain": [
              "2"
            ]
          },
          "metadata": {},
          "execution_count": 211
        }
      ]
    },
    {
      "cell_type": "code",
      "source": [
        "#Vectors\n"
      ],
      "metadata": {
        "id": "0f7evP1Dftin"
      },
      "execution_count": 212,
      "outputs": []
    },
    {
      "cell_type": "markdown",
      "source": [
        "scalar: ndim 0\n",
        "\n",
        "Vector: ndim 1\n",
        "\n",
        "matrix: ndim 2\n",
        "\n",
        "tensor: ndim 3,2,1,0\n",
        "\n",
        "\n",
        "![OIP.jpeg](data:image/jpeg;base64,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)"
      ],
      "metadata": {
        "id": "D2gCPyCElCXy"
      }
    },
    {
      "cell_type": "code",
      "source": [
        "vector=torch.tensor([7,8,1])\n",
        "vector"
      ],
      "metadata": {
        "colab": {
          "base_uri": "https://localhost:8080/"
        },
        "id": "DPiyHPwQlB56",
        "outputId": "76bab483-fde6-4177-ae99-fc1fc035eb78"
      },
      "execution_count": 213,
      "outputs": [
        {
          "output_type": "execute_result",
          "data": {
            "text/plain": [
              "tensor([7, 8, 1])"
            ]
          },
          "metadata": {},
          "execution_count": 213
        }
      ]
    },
    {
      "cell_type": "code",
      "source": [
        "vector.shape"
      ],
      "metadata": {
        "colab": {
          "base_uri": "https://localhost:8080/"
        },
        "id": "PuUHEgpml2Vx",
        "outputId": "0ed095a9-cd46-46c3-f9b8-c2e5cd14dadd"
      },
      "execution_count": 214,
      "outputs": [
        {
          "output_type": "execute_result",
          "data": {
            "text/plain": [
              "torch.Size([3])"
            ]
          },
          "metadata": {},
          "execution_count": 214
        }
      ]
    },
    {
      "cell_type": "code",
      "source": [
        "vector.ndim"
      ],
      "metadata": {
        "colab": {
          "base_uri": "https://localhost:8080/"
        },
        "id": "gvFccI5_l9LL",
        "outputId": "3d1223fd-f8a0-49fb-dcb5-dba92fb77c62"
      },
      "execution_count": 215,
      "outputs": [
        {
          "output_type": "execute_result",
          "data": {
            "text/plain": [
              "1"
            ]
          },
          "metadata": {},
          "execution_count": 215
        }
      ]
    },
    {
      "cell_type": "code",
      "source": [
        "#matrix\n",
        "matrix=torch.tensor([[4,7,2],[7,8,1]])\n",
        "matrix"
      ],
      "metadata": {
        "colab": {
          "base_uri": "https://localhost:8080/"
        },
        "id": "0rlwiQ7smAVd",
        "outputId": "28ef8d60-89d4-463b-c874-e6af042ef13d"
      },
      "execution_count": 216,
      "outputs": [
        {
          "output_type": "execute_result",
          "data": {
            "text/plain": [
              "tensor([[4, 7, 2],\n",
              "        [7, 8, 1]])"
            ]
          },
          "metadata": {},
          "execution_count": 216
        }
      ]
    },
    {
      "cell_type": "code",
      "source": [
        "matrix.ndim"
      ],
      "metadata": {
        "colab": {
          "base_uri": "https://localhost:8080/"
        },
        "id": "kt4h7cMemPR-",
        "outputId": "2a6b3825-f642-465f-ce87-e6d2783c86c3"
      },
      "execution_count": 217,
      "outputs": [
        {
          "output_type": "execute_result",
          "data": {
            "text/plain": [
              "2"
            ]
          },
          "metadata": {},
          "execution_count": 217
        }
      ]
    },
    {
      "cell_type": "code",
      "source": [
        "matrix.shape"
      ],
      "metadata": {
        "colab": {
          "base_uri": "https://localhost:8080/"
        },
        "id": "QjyPmnkymSLR",
        "outputId": "628ed8b5-6ba7-4d57-aed3-eadd0b655129"
      },
      "execution_count": 218,
      "outputs": [
        {
          "output_type": "execute_result",
          "data": {
            "text/plain": [
              "torch.Size([2, 3])"
            ]
          },
          "metadata": {},
          "execution_count": 218
        }
      ]
    },
    {
      "cell_type": "markdown",
      "source": [
        "x.shape: returns torch.Size([rows,columns])"
      ],
      "metadata": {
        "id": "iSoToqMmmYmz"
      }
    },
    {
      "cell_type": "code",
      "source": [
        "matrix[0]"
      ],
      "metadata": {
        "colab": {
          "base_uri": "https://localhost:8080/"
        },
        "id": "fvuQYdF9mf54",
        "outputId": "9c1ae92e-1760-4174-d666-9974c1500f4c"
      },
      "execution_count": 219,
      "outputs": [
        {
          "output_type": "execute_result",
          "data": {
            "text/plain": [
              "tensor([4, 7, 2])"
            ]
          },
          "metadata": {},
          "execution_count": 219
        }
      ]
    },
    {
      "cell_type": "code",
      "source": [
        "#Tensor\n",
        "Tensor=torch.tensor([[[1,2,3],\n",
        "                      [3,6,9],\n",
        "                      [2,5,6]]])\n",
        "Tensor1=torch.tensor([[[1,2,3],\n",
        "                       [4,5,6]],[[4,5,6],\n",
        "                                 [7,8,9]]])\n",
        "Tensor"
      ],
      "metadata": {
        "colab": {
          "base_uri": "https://localhost:8080/"
        },
        "id": "6KO7OxXunJPp",
        "outputId": "6b92ab8b-759d-4405-c5f5-34e740ffe52e"
      },
      "execution_count": 220,
      "outputs": [
        {
          "output_type": "execute_result",
          "data": {
            "text/plain": [
              "tensor([[[1, 2, 3],\n",
              "         [3, 6, 9],\n",
              "         [2, 5, 6]]])"
            ]
          },
          "metadata": {},
          "execution_count": 220
        }
      ]
    },
    {
      "cell_type": "code",
      "source": [
        "Tensor.ndim"
      ],
      "metadata": {
        "colab": {
          "base_uri": "https://localhost:8080/"
        },
        "id": "xWjXu_8Lng02",
        "outputId": "acf0b41a-e978-4b9d-8373-5eaf97f2028d"
      },
      "execution_count": 221,
      "outputs": [
        {
          "output_type": "execute_result",
          "data": {
            "text/plain": [
              "3"
            ]
          },
          "metadata": {},
          "execution_count": 221
        }
      ]
    },
    {
      "cell_type": "code",
      "source": [
        "Tensor.shape"
      ],
      "metadata": {
        "colab": {
          "base_uri": "https://localhost:8080/"
        },
        "id": "3DZmjsoOni8e",
        "outputId": "b8410790-88c0-414e-93b4-4b00fcbca847"
      },
      "execution_count": 222,
      "outputs": [
        {
          "output_type": "execute_result",
          "data": {
            "text/plain": [
              "torch.Size([1, 3, 3])"
            ]
          },
          "metadata": {},
          "execution_count": 222
        }
      ]
    },
    {
      "cell_type": "markdown",
      "source": [
        "Tensor.shape: returns torch.Size([channels,rows,columns])\n",
        "\n",
        "> Indented block\n",
        "\n"
      ],
      "metadata": {
        "id": "H-cSLfKWnr1K"
      }
    },
    {
      "cell_type": "code",
      "source": [
        "Tensor[0]"
      ],
      "metadata": {
        "colab": {
          "base_uri": "https://localhost:8080/"
        },
        "id": "NpyLGcAJn01i",
        "outputId": "a0d354fb-6b6f-48cc-9890-5656d5ce9416"
      },
      "execution_count": 223,
      "outputs": [
        {
          "output_type": "execute_result",
          "data": {
            "text/plain": [
              "tensor([[1, 2, 3],\n",
              "        [3, 6, 9],\n",
              "        [2, 5, 6]])"
            ]
          },
          "metadata": {},
          "execution_count": 223
        }
      ]
    },
    {
      "cell_type": "code",
      "source": [
        "Tensor[0][1]"
      ],
      "metadata": {
        "colab": {
          "base_uri": "https://localhost:8080/"
        },
        "id": "4mFUO9Fdn_BG",
        "outputId": "af0cd59c-2e58-4c66-93fb-0498fd51cac9"
      },
      "execution_count": 224,
      "outputs": [
        {
          "output_type": "execute_result",
          "data": {
            "text/plain": [
              "tensor([3, 6, 9])"
            ]
          },
          "metadata": {},
          "execution_count": 224
        }
      ]
    },
    {
      "cell_type": "code",
      "source": [
        "Tensor1"
      ],
      "metadata": {
        "colab": {
          "base_uri": "https://localhost:8080/"
        },
        "id": "ls2pYYCKwHNO",
        "outputId": "a645edb9-d130-4a64-bc43-96e533cbf437"
      },
      "execution_count": 225,
      "outputs": [
        {
          "output_type": "execute_result",
          "data": {
            "text/plain": [
              "tensor([[[1, 2, 3],\n",
              "         [4, 5, 6]],\n",
              "\n",
              "        [[4, 5, 6],\n",
              "         [7, 8, 9]]])"
            ]
          },
          "metadata": {},
          "execution_count": 225
        }
      ]
    },
    {
      "cell_type": "code",
      "source": [
        "Tensor1.ndim"
      ],
      "metadata": {
        "colab": {
          "base_uri": "https://localhost:8080/"
        },
        "id": "hIB-783DxWVA",
        "outputId": "3c86ae48-417b-4649-d97c-3256872d690c"
      },
      "execution_count": 226,
      "outputs": [
        {
          "output_type": "execute_result",
          "data": {
            "text/plain": [
              "3"
            ]
          },
          "metadata": {},
          "execution_count": 226
        }
      ]
    },
    {
      "cell_type": "code",
      "source": [
        "Tensor1.shape"
      ],
      "metadata": {
        "colab": {
          "base_uri": "https://localhost:8080/"
        },
        "id": "oG_9xNZIxcMb",
        "outputId": "1221016c-9c52-4c7b-d259-401d7d5ce262"
      },
      "execution_count": 227,
      "outputs": [
        {
          "output_type": "execute_result",
          "data": {
            "text/plain": [
              "torch.Size([2, 2, 3])"
            ]
          },
          "metadata": {},
          "execution_count": 227
        }
      ]
    },
    {
      "cell_type": "markdown",
      "source": [
        "###Random Sensors\n",
        "Read : https://pytorch.org/docs/stable/generated/torch.rand.html"
      ],
      "metadata": {
        "id": "cT_4gC9LzZST"
      }
    },
    {
      "cell_type": "code",
      "source": [
        "#Random tensors\n",
        "random=torch.rand(2,3,4)\n",
        "random"
      ],
      "metadata": {
        "colab": {
          "base_uri": "https://localhost:8080/"
        },
        "id": "yOUuu91ny7zM",
        "outputId": "20801c8d-b825-4723-a11e-408017b366f6"
      },
      "execution_count": 228,
      "outputs": [
        {
          "output_type": "execute_result",
          "data": {
            "text/plain": [
              "tensor([[[0.8694, 0.5677, 0.7411, 0.4294],\n",
              "         [0.8854, 0.5739, 0.2666, 0.6274],\n",
              "         [0.2696, 0.4414, 0.2969, 0.8317]],\n",
              "\n",
              "        [[0.1053, 0.2695, 0.3588, 0.1994],\n",
              "         [0.5472, 0.0062, 0.9516, 0.0753],\n",
              "         [0.8860, 0.5832, 0.3376, 0.8090]]])"
            ]
          },
          "metadata": {},
          "execution_count": 228
        }
      ]
    },
    {
      "cell_type": "code",
      "source": [
        "#images to tensors\n",
        "image_random=torch.rand(size=(3,224,224))#height,width,channel\n",
        "image_random.shape,image_random.ndim"
      ],
      "metadata": {
        "colab": {
          "base_uri": "https://localhost:8080/"
        },
        "id": "QNLIVmqV2iwl",
        "outputId": "213066e4-d3a2-46ec-8bc8-75e60a3ef199"
      },
      "execution_count": 229,
      "outputs": [
        {
          "output_type": "execute_result",
          "data": {
            "text/plain": [
              "(torch.Size([3, 224, 224]), 3)"
            ]
          },
          "metadata": {},
          "execution_count": 229
        }
      ]
    },
    {
      "cell_type": "code",
      "source": [
        "z=torch.zeros(2,3,4)\n",
        "z"
      ],
      "metadata": {
        "colab": {
          "base_uri": "https://localhost:8080/"
        },
        "id": "HynNwQpt2iye",
        "outputId": "cdc7510f-dde0-4b06-a425-da3e90b91faa"
      },
      "execution_count": 230,
      "outputs": [
        {
          "output_type": "execute_result",
          "data": {
            "text/plain": [
              "tensor([[[0., 0., 0., 0.],\n",
              "         [0., 0., 0., 0.],\n",
              "         [0., 0., 0., 0.]],\n",
              "\n",
              "        [[0., 0., 0., 0.],\n",
              "         [0., 0., 0., 0.],\n",
              "         [0., 0., 0., 0.]]])"
            ]
          },
          "metadata": {},
          "execution_count": 230
        }
      ]
    },
    {
      "cell_type": "code",
      "source": [
        "o=torch.ones(1,2,3)\n",
        "o"
      ],
      "metadata": {
        "colab": {
          "base_uri": "https://localhost:8080/"
        },
        "id": "hWiH7WDs6sIs",
        "outputId": "327c6cd2-4036-42a7-d29c-34b5e156426a"
      },
      "execution_count": 231,
      "outputs": [
        {
          "output_type": "execute_result",
          "data": {
            "text/plain": [
              "tensor([[[1., 1., 1.],\n",
              "         [1., 1., 1.]]])"
            ]
          },
          "metadata": {},
          "execution_count": 231
        }
      ]
    },
    {
      "cell_type": "code",
      "source": [
        "o.dtype"
      ],
      "metadata": {
        "colab": {
          "base_uri": "https://localhost:8080/"
        },
        "id": "JmuPlD_V68kZ",
        "outputId": "cbe14d18-84a0-4619-e689-23cb5ea01446"
      },
      "execution_count": 232,
      "outputs": [
        {
          "output_type": "execute_result",
          "data": {
            "text/plain": [
              "torch.float32"
            ]
          },
          "metadata": {},
          "execution_count": 232
        }
      ]
    },
    {
      "cell_type": "markdown",
      "source": [
        "###Creating a range of Tensors and Tensors-like\n",
        "\n",
        "\n",
        "\n"
      ],
      "metadata": {
        "id": "bgrgNSrp7JKg"
      }
    },
    {
      "cell_type": "code",
      "source": [
        "torch.arange(1,11)"
      ],
      "metadata": {
        "colab": {
          "base_uri": "https://localhost:8080/"
        },
        "id": "hr8--wrI7UPR",
        "outputId": "debc6a68-15f7-4d2b-c0db-3db424798d6b"
      },
      "execution_count": 233,
      "outputs": [
        {
          "output_type": "execute_result",
          "data": {
            "text/plain": [
              "tensor([ 1,  2,  3,  4,  5,  6,  7,  8,  9, 10])"
            ]
          },
          "metadata": {},
          "execution_count": 233
        }
      ]
    },
    {
      "cell_type": "code",
      "source": [
        "torch.arange(start=0,end=1000,step=80)"
      ],
      "metadata": {
        "colab": {
          "base_uri": "https://localhost:8080/"
        },
        "id": "hz6AkBaQ7O-l",
        "outputId": "b8f38245-3b67-42a6-c87b-4265206ab84c"
      },
      "execution_count": 234,
      "outputs": [
        {
          "output_type": "execute_result",
          "data": {
            "text/plain": [
              "tensor([  0,  80, 160, 240, 320, 400, 480, 560, 640, 720, 800, 880, 960])"
            ]
          },
          "metadata": {},
          "execution_count": 234
        }
      ]
    },
    {
      "cell_type": "code",
      "source": [
        "#tensors-like\n",
        "tz=torch.zeros_like(torch.arange(0,1000,80))\n",
        "tz"
      ],
      "metadata": {
        "colab": {
          "base_uri": "https://localhost:8080/"
        },
        "id": "uU0-c2Nr7yPl",
        "outputId": "3fa5ce6d-7dc4-427f-f313-bc1a20e6b3dd"
      },
      "execution_count": 235,
      "outputs": [
        {
          "output_type": "execute_result",
          "data": {
            "text/plain": [
              "tensor([0, 0, 0, 0, 0, 0, 0, 0, 0, 0, 0, 0, 0])"
            ]
          },
          "metadata": {},
          "execution_count": 235
        }
      ]
    },
    {
      "cell_type": "markdown",
      "source": [
        "###Tensor Datatypes\n",
        "\n",
        "default; float32, int64"
      ],
      "metadata": {
        "id": "lNe1bANm9GA_"
      }
    },
    {
      "cell_type": "code",
      "source": [
        "a =torch.tensor([1,2,5],dtype=None,#datatype\n",
        "                device=None,\n",
        "                requires_grad=False)\n",
        "a"
      ],
      "metadata": {
        "colab": {
          "base_uri": "https://localhost:8080/"
        },
        "id": "L0TpIPmT83sd",
        "outputId": "c71f4f09-851f-4dbf-e9e9-932e6b439caf"
      },
      "execution_count": 236,
      "outputs": [
        {
          "output_type": "execute_result",
          "data": {
            "text/plain": [
              "tensor([1, 2, 5])"
            ]
          },
          "metadata": {},
          "execution_count": 236
        }
      ]
    },
    {
      "cell_type": "code",
      "source": [
        "a.dtype"
      ],
      "metadata": {
        "colab": {
          "base_uri": "https://localhost:8080/"
        },
        "id": "qivx85pTGzkm",
        "outputId": "90c06bf3-cd02-4e85-fbce-1ae6f98c5027"
      },
      "execution_count": 237,
      "outputs": [
        {
          "output_type": "execute_result",
          "data": {
            "text/plain": [
              "torch.int64"
            ]
          },
          "metadata": {},
          "execution_count": 237
        }
      ]
    },
    {
      "cell_type": "code",
      "source": [
        "b =torch.tensor([1.0,2.0,5.0],dtype=None,#datatype\n",
        "                device=None,\n",
        "                requires_grad=False)\n",
        "b.dtype"
      ],
      "metadata": {
        "colab": {
          "base_uri": "https://localhost:8080/"
        },
        "id": "y9oOyferOeKO",
        "outputId": "f7ed38d0-4e3c-468f-b5a1-634ac225d10f"
      },
      "execution_count": 238,
      "outputs": [
        {
          "output_type": "execute_result",
          "data": {
            "text/plain": [
              "torch.float32"
            ]
          },
          "metadata": {},
          "execution_count": 238
        }
      ]
    },
    {
      "cell_type": "code",
      "source": [
        "c =torch.tensor([1.0,2.0,5.0],dtype=torch.float16,#datatype\n",
        "                device=None,#device on tensor cpu/cuda\n",
        "                requires_grad=False)#calculate or not the gradient\n",
        "c.device"
      ],
      "metadata": {
        "colab": {
          "base_uri": "https://localhost:8080/"
        },
        "id": "3GuvIg9nOkei",
        "outputId": "2ba11c40-e100-4973-ca6e-0b7ac9763b54"
      },
      "execution_count": 239,
      "outputs": [
        {
          "output_type": "execute_result",
          "data": {
            "text/plain": [
              "device(type='cpu')"
            ]
          },
          "metadata": {},
          "execution_count": 239
        }
      ]
    },
    {
      "cell_type": "code",
      "source": [
        "d =b.type(torch.float64)\n",
        "d"
      ],
      "metadata": {
        "colab": {
          "base_uri": "https://localhost:8080/"
        },
        "id": "QsLNlbjaPLMC",
        "outputId": "c9566b44-5592-4942-c740-95e38533883b"
      },
      "execution_count": 240,
      "outputs": [
        {
          "output_type": "execute_result",
          "data": {
            "text/plain": [
              "tensor([1., 2., 5.], dtype=torch.float64)"
            ]
          },
          "metadata": {},
          "execution_count": 240
        }
      ]
    },
    {
      "cell_type": "code",
      "source": [
        "f =c*d\n",
        "f.dtype,f"
      ],
      "metadata": {
        "colab": {
          "base_uri": "https://localhost:8080/"
        },
        "id": "v9ZNdFLLPgqk",
        "outputId": "3655c05b-9e92-48d8-c8b8-50c54c819388"
      },
      "execution_count": 241,
      "outputs": [
        {
          "output_type": "execute_result",
          "data": {
            "text/plain": [
              "(torch.float64, tensor([ 1.,  4., 25.], dtype=torch.float64))"
            ]
          },
          "metadata": {},
          "execution_count": 241
        }
      ]
    },
    {
      "cell_type": "code",
      "source": [
        "a*b\n",
        "a.dtype,a"
      ],
      "metadata": {
        "colab": {
          "base_uri": "https://localhost:8080/"
        },
        "id": "cOUM88B4P4pC",
        "outputId": "82ee97b1-0c91-41bd-a510-3bdca7c09fc4"
      },
      "execution_count": 242,
      "outputs": [
        {
          "output_type": "execute_result",
          "data": {
            "text/plain": [
              "(torch.int64, tensor([1, 2, 5]))"
            ]
          },
          "metadata": {},
          "execution_count": 242
        }
      ]
    },
    {
      "cell_type": "markdown",
      "source": [
        "###Getting Info from tensors\n",
        "\n",
        "1.not right data type : get ```tensor.dtype```\n",
        "\n",
        "2.not right shape : get ```tensor.shape``` or ```tensor.size()```\n",
        "\n",
        "3.not right device : get ```tensor.device```"
      ],
      "metadata": {
        "id": "S2PFsoF5RlSr"
      }
    },
    {
      "cell_type": "markdown",
      "source": [
        "###Manipulating Tensors\n",
        "Tensor operations: Addition, Substraction, Multiplication, Division, Matrix Multiplication."
      ],
      "metadata": {
        "id": "l1q_PU8CSV1N"
      }
    },
    {
      "cell_type": "code",
      "source": [
        "a\n"
      ],
      "metadata": {
        "colab": {
          "base_uri": "https://localhost:8080/"
        },
        "id": "CVeyF9lrQNKQ",
        "outputId": "71cf6dad-727b-4761-c046-ba538271955d"
      },
      "execution_count": 243,
      "outputs": [
        {
          "output_type": "execute_result",
          "data": {
            "text/plain": [
              "tensor([1, 2, 5])"
            ]
          },
          "metadata": {},
          "execution_count": 243
        }
      ]
    },
    {
      "cell_type": "code",
      "source": [
        "print(a+10)"
      ],
      "metadata": {
        "colab": {
          "base_uri": "https://localhost:8080/"
        },
        "id": "-8oPz8C2S699",
        "outputId": "ee4a6be8-a43e-4d84-af34-d9c531dd735e"
      },
      "execution_count": 244,
      "outputs": [
        {
          "output_type": "stream",
          "name": "stdout",
          "text": [
            "tensor([11, 12, 15])\n"
          ]
        }
      ]
    },
    {
      "cell_type": "code",
      "source": [
        "print(a*10)"
      ],
      "metadata": {
        "colab": {
          "base_uri": "https://localhost:8080/"
        },
        "id": "J5Pk87VyS8RM",
        "outputId": "a145eae1-3e2c-4a28-954d-cb6db855dbcb"
      },
      "execution_count": 245,
      "outputs": [
        {
          "output_type": "stream",
          "name": "stdout",
          "text": [
            "tensor([10, 20, 50])\n"
          ]
        }
      ]
    },
    {
      "cell_type": "code",
      "source": [
        "a-5"
      ],
      "metadata": {
        "colab": {
          "base_uri": "https://localhost:8080/"
        },
        "id": "Tu_0fnnYTR_j",
        "outputId": "2f3d832e-39ab-4f74-f64f-59a644d26f3c"
      },
      "execution_count": 246,
      "outputs": [
        {
          "output_type": "execute_result",
          "data": {
            "text/plain": [
              "tensor([-4, -3,  0])"
            ]
          },
          "metadata": {},
          "execution_count": 246
        }
      ]
    },
    {
      "cell_type": "code",
      "source": [
        "torch.mul(a,5)"
      ],
      "metadata": {
        "colab": {
          "base_uri": "https://localhost:8080/"
        },
        "id": "aUPqTYCETUcR",
        "outputId": "eadc430c-e206-41a9-cade-172d63b67445"
      },
      "execution_count": 247,
      "outputs": [
        {
          "output_type": "execute_result",
          "data": {
            "text/plain": [
              "tensor([ 5, 10, 25])"
            ]
          },
          "metadata": {},
          "execution_count": 247
        }
      ]
    },
    {
      "cell_type": "code",
      "source": [
        "torch.add(a,20)"
      ],
      "metadata": {
        "colab": {
          "base_uri": "https://localhost:8080/"
        },
        "id": "6BJ0StHgTgaY",
        "outputId": "1522de58-515a-4e2f-d5fb-b82cf5c67180"
      },
      "execution_count": 248,
      "outputs": [
        {
          "output_type": "execute_result",
          "data": {
            "text/plain": [
              "tensor([21, 22, 25])"
            ]
          },
          "metadata": {},
          "execution_count": 248
        }
      ]
    },
    {
      "cell_type": "code",
      "source": [
        "#scalar/elementwise multiplication\n",
        "e=torch.tensor([5,2,9])\n",
        "print(a,'*',e),print(a*e)\n",
        "\n"
      ],
      "metadata": {
        "colab": {
          "base_uri": "https://localhost:8080/"
        },
        "id": "rC70NSx-TmXR",
        "outputId": "9c18aa39-3f24-4b9a-bab4-92e9ab1f011b"
      },
      "execution_count": 249,
      "outputs": [
        {
          "output_type": "stream",
          "name": "stdout",
          "text": [
            "tensor([1, 2, 5]) * tensor([5, 2, 9])\n",
            "tensor([ 5,  4, 45])\n"
          ]
        },
        {
          "output_type": "execute_result",
          "data": {
            "text/plain": [
              "(None, None)"
            ]
          },
          "metadata": {},
          "execution_count": 249
        }
      ]
    },
    {
      "cell_type": "code",
      "source": [
        "a.shape, e.shape"
      ],
      "metadata": {
        "colab": {
          "base_uri": "https://localhost:8080/"
        },
        "id": "2ZlH-zULba-j",
        "outputId": "e7845b11-e1c6-4863-9a9b-f7708cc364d1"
      },
      "execution_count": 250,
      "outputs": [
        {
          "output_type": "execute_result",
          "data": {
            "text/plain": [
              "(torch.Size([3]), torch.Size([3]))"
            ]
          },
          "metadata": {},
          "execution_count": 250
        }
      ]
    },
    {
      "cell_type": "code",
      "source": [
        "%time\n",
        "#matrix multiplication /dot product(1*5+2*2+5*9)\n",
        "torch.matmul(a,e),print(a@e)\n",
        "#get addition of (a*e)"
      ],
      "metadata": {
        "colab": {
          "base_uri": "https://localhost:8080/"
        },
        "id": "mdB9SYUSYiXv",
        "outputId": "188cf513-65cb-4e2a-9e68-40151fa68d6d"
      },
      "execution_count": 251,
      "outputs": [
        {
          "output_type": "stream",
          "name": "stdout",
          "text": [
            "CPU times: user 3 µs, sys: 1 µs, total: 4 µs\n",
            "Wall time: 6.68 µs\n",
            "tensor(54)\n"
          ]
        },
        {
          "output_type": "execute_result",
          "data": {
            "text/plain": [
              "(tensor(54), None)"
            ]
          },
          "metadata": {},
          "execution_count": 251
        }
      ]
    },
    {
      "cell_type": "markdown",
      "source": [
        "Rules for dot product\n",
        "\n",
        "The **inner dimensions** must match\n",
        "1. ```(3,2)@(2,3)```\n",
        "Resulting matrix dimensions has the shape of outer dimenssions\n",
        "1. ```(3,3)```"
      ],
      "metadata": {
        "id": "yYNLFJvPZ5L-"
      }
    },
    {
      "cell_type": "code",
      "source": [
        "\n",
        "torch.rand(1,2,3)@ torch.rand(1,3,2)\n"
      ],
      "metadata": {
        "colab": {
          "base_uri": "https://localhost:8080/"
        },
        "id": "gHwJOdWCY5CM",
        "outputId": "13a0fcc4-8150-4432-f47a-80342d5fe85d"
      },
      "execution_count": 252,
      "outputs": [
        {
          "output_type": "execute_result",
          "data": {
            "text/plain": [
              "tensor([[[0.9072, 1.2472],\n",
              "         [0.7958, 1.0683]]])"
            ]
          },
          "metadata": {},
          "execution_count": 252
        }
      ]
    },
    {
      "cell_type": "code",
      "source": [
        "f = torch.tensor([[1,2,3],[2,8,6]])\n",
        "f.shape, f"
      ],
      "metadata": {
        "colab": {
          "base_uri": "https://localhost:8080/"
        },
        "id": "YZg9fyi6bOzm",
        "outputId": "4fd2f206-3695-4247-8b33-672d9bb9749f"
      },
      "execution_count": 253,
      "outputs": [
        {
          "output_type": "execute_result",
          "data": {
            "text/plain": [
              "(torch.Size([2, 3]),\n",
              " tensor([[1, 2, 3],\n",
              "         [2, 8, 6]]))"
            ]
          },
          "metadata": {},
          "execution_count": 253
        }
      ]
    },
    {
      "cell_type": "code",
      "source": [
        "f.T #finding Transpose"
      ],
      "metadata": {
        "colab": {
          "base_uri": "https://localhost:8080/"
        },
        "id": "V2rA0WPDjXJp",
        "outputId": "49497cb6-b7cc-47dc-8ce9-760323148ab0"
      },
      "execution_count": 254,
      "outputs": [
        {
          "output_type": "execute_result",
          "data": {
            "text/plain": [
              "tensor([[1, 2],\n",
              "        [2, 8],\n",
              "        [3, 6]])"
            ]
          },
          "metadata": {},
          "execution_count": 254
        }
      ]
    },
    {
      "cell_type": "markdown",
      "source": [
        "###Finding min, max,mean,sum, etc"
      ],
      "metadata": {
        "id": "CvJ7OQqwkXSX"
      }
    },
    {
      "cell_type": "code",
      "source": [
        "g = torch.arange(0,100,10)\n",
        "g"
      ],
      "metadata": {
        "colab": {
          "base_uri": "https://localhost:8080/"
        },
        "id": "oftAkRAHkgDw",
        "outputId": "0647c80a-316e-454e-d9a6-c6ead95fa956"
      },
      "execution_count": 255,
      "outputs": [
        {
          "output_type": "execute_result",
          "data": {
            "text/plain": [
              "tensor([ 0, 10, 20, 30, 40, 50, 60, 70, 80, 90])"
            ]
          },
          "metadata": {},
          "execution_count": 255
        }
      ]
    },
    {
      "cell_type": "code",
      "source": [
        "torch.min(g), g.min()"
      ],
      "metadata": {
        "colab": {
          "base_uri": "https://localhost:8080/"
        },
        "id": "KVRGmoEjkp1m",
        "outputId": "554f6f15-313d-4d18-a882-83da48e2cd03"
      },
      "execution_count": 256,
      "outputs": [
        {
          "output_type": "execute_result",
          "data": {
            "text/plain": [
              "(tensor(0), tensor(0))"
            ]
          },
          "metadata": {},
          "execution_count": 256
        }
      ]
    },
    {
      "cell_type": "code",
      "source": [
        "torch.max(g),g.max()"
      ],
      "metadata": {
        "colab": {
          "base_uri": "https://localhost:8080/"
        },
        "id": "8IZ8WgIzkybh",
        "outputId": "30a24f08-3ce6-4060-b991-806e897ea77f"
      },
      "execution_count": 257,
      "outputs": [
        {
          "output_type": "execute_result",
          "data": {
            "text/plain": [
              "(tensor(90), tensor(90))"
            ]
          },
          "metadata": {},
          "execution_count": 257
        }
      ]
    },
    {
      "cell_type": "code",
      "source": [
        "#torch.mean(g) could not infer output dtype. Input dtype must be either a floating point or complex dtype. Got: Long\n",
        "h = g.type(torch.float32) #To find the mean datatype should be Float or complex\n",
        "torch.mean(h), h.mean()"
      ],
      "metadata": {
        "colab": {
          "base_uri": "https://localhost:8080/"
        },
        "id": "kz5lScc2k1kG",
        "outputId": "311dd6c5-9bd8-4611-fc0b-741ed6dc7f9b"
      },
      "execution_count": 258,
      "outputs": [
        {
          "output_type": "execute_result",
          "data": {
            "text/plain": [
              "(tensor(45.), tensor(45.))"
            ]
          },
          "metadata": {},
          "execution_count": 258
        }
      ]
    },
    {
      "cell_type": "markdown",
      "source": [
        "###To find the mean, datatype should be **Float** or **Complex**\n",
        "\n",
        "refer: https://pytorch.org/docs/stable/generated/torch.mean.html"
      ],
      "metadata": {
        "id": "xZbt5iNrlwKs"
      }
    },
    {
      "cell_type": "code",
      "source": [
        "torch.mean(g.type(torch.float32)), g.type(torch.float32).mean()"
      ],
      "metadata": {
        "colab": {
          "base_uri": "https://localhost:8080/"
        },
        "id": "Ztp-63PLl2sJ",
        "outputId": "1de3c191-f804-4058-c536-83936de6af80"
      },
      "execution_count": 259,
      "outputs": [
        {
          "output_type": "execute_result",
          "data": {
            "text/plain": [
              "(tensor(45.), tensor(45.))"
            ]
          },
          "metadata": {},
          "execution_count": 259
        }
      ]
    },
    {
      "cell_type": "code",
      "source": [
        "torch.sum(g),g.sum()"
      ],
      "metadata": {
        "colab": {
          "base_uri": "https://localhost:8080/"
        },
        "id": "BA5XjNNsmdw5",
        "outputId": "ea7d11e1-e9d1-4814-db56-6c8974023549"
      },
      "execution_count": 260,
      "outputs": [
        {
          "output_type": "execute_result",
          "data": {
            "text/plain": [
              "(tensor(450), tensor(450))"
            ]
          },
          "metadata": {},
          "execution_count": 260
        }
      ]
    },
    {
      "cell_type": "code",
      "source": [
        "#Finding position of  min and max\n",
        "g.argmin()"
      ],
      "metadata": {
        "colab": {
          "base_uri": "https://localhost:8080/"
        },
        "id": "HCPUABS2mjkB",
        "outputId": "e3ffd655-47c5-410c-a35c-86d917c4c336"
      },
      "execution_count": 261,
      "outputs": [
        {
          "output_type": "execute_result",
          "data": {
            "text/plain": [
              "tensor(0)"
            ]
          },
          "metadata": {},
          "execution_count": 261
        }
      ]
    },
    {
      "cell_type": "code",
      "source": [
        "g.argmax()"
      ],
      "metadata": {
        "colab": {
          "base_uri": "https://localhost:8080/"
        },
        "id": "5NyD93d4mxGG",
        "outputId": "1cff5d2a-e669-45ad-b47b-8cb03145498b"
      },
      "execution_count": 262,
      "outputs": [
        {
          "output_type": "execute_result",
          "data": {
            "text/plain": [
              "tensor(9)"
            ]
          },
          "metadata": {},
          "execution_count": 262
        }
      ]
    },
    {
      "cell_type": "markdown",
      "source": [
        "##Reshaping, Stacking, Squeezing, Unsqueezing Tensors\n",
        "\n",
        "*   Reshaping\n",
        "*   Stacking\n",
        "*   Viewing\n",
        "*   Squeeze/Unsqeeze\n",
        "*   Permute\n"
      ],
      "metadata": {
        "id": "S78NPS0-nTa7"
      }
    },
    {
      "cell_type": "code",
      "source": [
        "a"
      ],
      "metadata": {
        "colab": {
          "base_uri": "https://localhost:8080/"
        },
        "id": "kmsPHmoMivab",
        "outputId": "c4769028-285a-4d0c-8237-1ae6df2c5672"
      },
      "execution_count": 263,
      "outputs": [
        {
          "output_type": "execute_result",
          "data": {
            "text/plain": [
              "tensor([1, 2, 5])"
            ]
          },
          "metadata": {},
          "execution_count": 263
        }
      ]
    },
    {
      "cell_type": "code",
      "source": [
        "a_reshaped= a.reshape(1,3)\n",
        "a_reshaped, a_reshaped.shape"
      ],
      "metadata": {
        "colab": {
          "base_uri": "https://localhost:8080/"
        },
        "id": "84Fp_waEfyuf",
        "outputId": "8849c182-7c10-40cf-dde5-cf096ed9a6c9"
      },
      "execution_count": 264,
      "outputs": [
        {
          "output_type": "execute_result",
          "data": {
            "text/plain": [
              "(tensor([[1, 2, 5]]), torch.Size([1, 3]))"
            ]
          },
          "metadata": {},
          "execution_count": 264
        }
      ]
    },
    {
      "cell_type": "code",
      "source": [
        "a_0= a.reshape(3,1)\n",
        "a_0, a_0.shape"
      ],
      "metadata": {
        "colab": {
          "base_uri": "https://localhost:8080/"
        },
        "id": "pNsgQBhygQfz",
        "outputId": "78d2181b-2e77-4a57-ca94-64a04c992262"
      },
      "execution_count": 265,
      "outputs": [
        {
          "output_type": "execute_result",
          "data": {
            "text/plain": [
              "(tensor([[1],\n",
              "         [2],\n",
              "         [5]]),\n",
              " torch.Size([3, 1]))"
            ]
          },
          "metadata": {},
          "execution_count": 265
        }
      ]
    },
    {
      "cell_type": "code",
      "source": [
        "b= torch.arange(1,21,1)\n",
        "b"
      ],
      "metadata": {
        "colab": {
          "base_uri": "https://localhost:8080/"
        },
        "id": "xmzoGWzfglVb",
        "outputId": "1b339e5e-41f3-41f7-a12d-11fe3f880a82"
      },
      "execution_count": 266,
      "outputs": [
        {
          "output_type": "execute_result",
          "data": {
            "text/plain": [
              "tensor([ 1,  2,  3,  4,  5,  6,  7,  8,  9, 10, 11, 12, 13, 14, 15, 16, 17, 18,\n",
              "        19, 20])"
            ]
          },
          "metadata": {},
          "execution_count": 266
        }
      ]
    },
    {
      "cell_type": "code",
      "source": [
        "b_0 =b.reshape(2,10)\n",
        "b_0, b_0.shape"
      ],
      "metadata": {
        "colab": {
          "base_uri": "https://localhost:8080/"
        },
        "id": "pYrv5rDzkAlW",
        "outputId": "770a8165-0260-4cc4-ee08-8e8f27e044fe"
      },
      "execution_count": 267,
      "outputs": [
        {
          "output_type": "execute_result",
          "data": {
            "text/plain": [
              "(tensor([[ 1,  2,  3,  4,  5,  6,  7,  8,  9, 10],\n",
              "         [11, 12, 13, 14, 15, 16, 17, 18, 19, 20]]),\n",
              " torch.Size([2, 10]))"
            ]
          },
          "metadata": {},
          "execution_count": 267
        }
      ]
    },
    {
      "cell_type": "markdown",
      "source": [
        "Shape should be compatible. Like factors"
      ],
      "metadata": {
        "id": "SD2PYbf9kWBt"
      }
    },
    {
      "cell_type": "code",
      "source": [
        "\n",
        "z=b.view(4,5)\n",
        "b,z,z.shape"
      ],
      "metadata": {
        "colab": {
          "base_uri": "https://localhost:8080/"
        },
        "id": "4vzWUUSbkc2W",
        "outputId": "958d3e44-3143-4032-ff96-06182baec83d"
      },
      "execution_count": 268,
      "outputs": [
        {
          "output_type": "execute_result",
          "data": {
            "text/plain": [
              "(tensor([ 1,  2,  3,  4,  5,  6,  7,  8,  9, 10, 11, 12, 13, 14, 15, 16, 17, 18,\n",
              "         19, 20]),\n",
              " tensor([[ 1,  2,  3,  4,  5],\n",
              "         [ 6,  7,  8,  9, 10],\n",
              "         [11, 12, 13, 14, 15],\n",
              "         [16, 17, 18, 19, 20]]),\n",
              " torch.Size([4, 5]))"
            ]
          },
          "metadata": {},
          "execution_count": 268
        }
      ]
    },
    {
      "cell_type": "code",
      "source": [
        "z[:,2]=2\n",
        "z,b\n"
      ],
      "metadata": {
        "colab": {
          "base_uri": "https://localhost:8080/"
        },
        "id": "a2w-_pYklF0F",
        "outputId": "4d46e163-d1ca-4a9b-8009-27a5ab1aa363"
      },
      "execution_count": 269,
      "outputs": [
        {
          "output_type": "execute_result",
          "data": {
            "text/plain": [
              "(tensor([[ 1,  2,  2,  4,  5],\n",
              "         [ 6,  7,  2,  9, 10],\n",
              "         [11, 12,  2, 14, 15],\n",
              "         [16, 17,  2, 19, 20]]),\n",
              " tensor([ 1,  2,  2,  4,  5,  6,  7,  2,  9, 10, 11, 12,  2, 14, 15, 16, 17,  2,\n",
              "         19, 20]))"
            ]
          },
          "metadata": {},
          "execution_count": 269
        }
      ]
    },
    {
      "cell_type": "markdown",
      "source": [
        "Changing reshaped array changes the original one because the tensors share the same memory as the original"
      ],
      "metadata": {
        "id": "zoX6MC4AnHw4"
      }
    },
    {
      "cell_type": "code",
      "source": [
        "#stack; concatanate tensors along a new dimension\n",
        "#equal sized tensors,dim  Has to be between 0 and the number of dimensions of concatenated tensors (inclusive)\n",
        "s = torch.stack([a,a,a],dim=0)\n",
        "s\n"
      ],
      "metadata": {
        "colab": {
          "base_uri": "https://localhost:8080/"
        },
        "id": "5je7VP5tnQvw",
        "outputId": "1b3229fc-2e7d-42fe-e196-86bae7605939"
      },
      "execution_count": 270,
      "outputs": [
        {
          "output_type": "execute_result",
          "data": {
            "text/plain": [
              "tensor([[1, 2, 5],\n",
              "        [1, 2, 5],\n",
              "        [1, 2, 5]])"
            ]
          },
          "metadata": {},
          "execution_count": 270
        }
      ]
    },
    {
      "cell_type": "code",
      "source": [
        "#squeeze; remove extra dimensions\n",
        "x =torch.zeros(2,1,2,1,2)\n",
        "y=torch.squeeze(x)\n",
        "x.size(), y.size()"
      ],
      "metadata": {
        "colab": {
          "base_uri": "https://localhost:8080/"
        },
        "id": "3DIAxqJ21MG0",
        "outputId": "9c628369-cf09-40de-c7a5-ad2aa059ddd7"
      },
      "execution_count": 271,
      "outputs": [
        {
          "output_type": "execute_result",
          "data": {
            "text/plain": [
              "(torch.Size([2, 1, 2, 1, 2]), torch.Size([2, 2, 2]))"
            ]
          },
          "metadata": {},
          "execution_count": 271
        }
      ]
    },
    {
      "cell_type": "code",
      "source": [
        "m=torch.squeeze(x,0)#no change\n",
        "n =torch.squeeze(x,1)# 1 dim reduce\n",
        "o=torch.squeeze(x,2) #no change\n",
        "p=torch.squeeze(x,3) # 1 dim reduce\n",
        "q=torch.squeeze(x,4) #no change\n",
        "m.shape,n.shape,o.shape,p.shape,q.shape"
      ],
      "metadata": {
        "colab": {
          "base_uri": "https://localhost:8080/"
        },
        "id": "3gvYPXXv2jp6",
        "outputId": "61beb97a-391c-4252-e99b-c7a8d07efc9c"
      },
      "execution_count": 272,
      "outputs": [
        {
          "output_type": "execute_result",
          "data": {
            "text/plain": [
              "(torch.Size([2, 1, 2, 1, 2]),\n",
              " torch.Size([2, 2, 1, 2]),\n",
              " torch.Size([2, 1, 2, 1, 2]),\n",
              " torch.Size([2, 1, 2, 2]),\n",
              " torch.Size([2, 1, 2, 1, 2]))"
            ]
          },
          "metadata": {},
          "execution_count": 272
        }
      ]
    },
    {
      "cell_type": "code",
      "source": [
        "y = torch.squeeze(x, (1, 2, 3))\n",
        "y.shape, y"
      ],
      "metadata": {
        "colab": {
          "base_uri": "https://localhost:8080/"
        },
        "id": "kAf1v_opvna0",
        "outputId": "556ba14b-cc80-4710-fad3-301ac2cf6be8"
      },
      "execution_count": 273,
      "outputs": [
        {
          "output_type": "execute_result",
          "data": {
            "text/plain": [
              "(torch.Size([2, 2, 2]),\n",
              " tensor([[[0., 0.],\n",
              "          [0., 0.]],\n",
              " \n",
              "         [[0., 0.],\n",
              "          [0., 0.]]]))"
            ]
          },
          "metadata": {},
          "execution_count": 273
        }
      ]
    },
    {
      "cell_type": "code",
      "source": [
        "#unsqueeze; adds a 1 dim to target tensor at specific dim\n",
        "print(f\"Previous target:{y}\")\n",
        "print(f\"Previous target shape:{y.shape}\")\n",
        "#y_unsqueezed = torch.unsqueeze(y,dim=2)\n",
        "y_unsqueezed = y.unsqueeze(dim=2)\n",
        "print(f\"New target:{y_unsqueezed}\")\n",
        "print(f\"New target shape:{y_unsqueezed.shape}\") #new dim gets added to the dim index place\n"
      ],
      "metadata": {
        "colab": {
          "base_uri": "https://localhost:8080/"
        },
        "id": "VVIYm3wyvnld",
        "outputId": "91ddecb5-147b-4a01-9efd-5cac017d8732"
      },
      "execution_count": 274,
      "outputs": [
        {
          "output_type": "stream",
          "name": "stdout",
          "text": [
            "Previous target:tensor([[[0., 0.],\n",
            "         [0., 0.]],\n",
            "\n",
            "        [[0., 0.],\n",
            "         [0., 0.]]])\n",
            "Previous target shape:torch.Size([2, 2, 2])\n",
            "New target:tensor([[[[0., 0.]],\n",
            "\n",
            "         [[0., 0.]]],\n",
            "\n",
            "\n",
            "        [[[0., 0.]],\n",
            "\n",
            "         [[0., 0.]]]])\n",
            "New target shape:torch.Size([2, 2, 1, 2])\n"
          ]
        }
      ]
    },
    {
      "cell_type": "code",
      "source": [
        "#torch.permute: rearrange dims of tensor in specific order\n",
        "Tensor.size(),Tensor"
      ],
      "metadata": {
        "colab": {
          "base_uri": "https://localhost:8080/"
        },
        "id": "BZh3LHNIxLGu",
        "outputId": "d0da6266-77e9-407c-e1b0-81a95c62cd4c"
      },
      "execution_count": 275,
      "outputs": [
        {
          "output_type": "execute_result",
          "data": {
            "text/plain": [
              "(torch.Size([1, 3, 3]),\n",
              " tensor([[[1, 2, 3],\n",
              "          [3, 6, 9],\n",
              "          [2, 5, 6]]]))"
            ]
          },
          "metadata": {},
          "execution_count": 275
        }
      ]
    },
    {
      "cell_type": "code",
      "source": [
        "torch.permute(Tensor,(2,0,1)).size(), torch.permute(Tensor,(2,0,1))"
      ],
      "metadata": {
        "colab": {
          "base_uri": "https://localhost:8080/"
        },
        "id": "zs8p1F8nHOjD",
        "outputId": "6bbcf28f-e9cf-4a61-ab45-545c3ec5cc97"
      },
      "execution_count": 276,
      "outputs": [
        {
          "output_type": "execute_result",
          "data": {
            "text/plain": [
              "(torch.Size([3, 1, 3]),\n",
              " tensor([[[1, 3, 2]],\n",
              " \n",
              "         [[2, 6, 5]],\n",
              " \n",
              "         [[3, 9, 6]]]))"
            ]
          },
          "metadata": {},
          "execution_count": 276
        }
      ]
    },
    {
      "cell_type": "code",
      "source": [
        "#same memory as original tensor\n",
        "Tensor[0][0][0]=5\n",
        "torch.permute(Tensor,(2,0,1))"
      ],
      "metadata": {
        "colab": {
          "base_uri": "https://localhost:8080/"
        },
        "id": "x3OJTUXkKfeN",
        "outputId": "ad25f3cd-aafd-4d3e-c286-0fa8a8a0429b"
      },
      "execution_count": 277,
      "outputs": [
        {
          "output_type": "execute_result",
          "data": {
            "text/plain": [
              "tensor([[[5, 3, 2]],\n",
              "\n",
              "        [[2, 6, 5]],\n",
              "\n",
              "        [[3, 9, 6]]])"
            ]
          },
          "metadata": {},
          "execution_count": 277
        }
      ]
    },
    {
      "cell_type": "markdown",
      "source": [
        "###Indexing"
      ],
      "metadata": {
        "id": "3Ra5qBAlLf5o"
      }
    },
    {
      "cell_type": "code",
      "source": [
        " v=torch.arange(1,10).reshape(1,3,3)\n",
        " v,v.shape"
      ],
      "metadata": {
        "colab": {
          "base_uri": "https://localhost:8080/"
        },
        "id": "6FAfUHM2Ljog",
        "outputId": "8201b849-913b-4ada-c82f-c248ca87307c"
      },
      "execution_count": 278,
      "outputs": [
        {
          "output_type": "execute_result",
          "data": {
            "text/plain": [
              "(tensor([[[1, 2, 3],\n",
              "          [4, 5, 6],\n",
              "          [7, 8, 9]]]),\n",
              " torch.Size([1, 3, 3]))"
            ]
          },
          "metadata": {},
          "execution_count": 278
        }
      ]
    },
    {
      "cell_type": "code",
      "source": [
        "v[0]"
      ],
      "metadata": {
        "colab": {
          "base_uri": "https://localhost:8080/"
        },
        "id": "ngbw4F9dPdBM",
        "outputId": "64540e7d-edb1-41b2-f1a9-1e10dce19c22"
      },
      "execution_count": 279,
      "outputs": [
        {
          "output_type": "execute_result",
          "data": {
            "text/plain": [
              "tensor([[1, 2, 3],\n",
              "        [4, 5, 6],\n",
              "        [7, 8, 9]])"
            ]
          },
          "metadata": {},
          "execution_count": 279
        }
      ]
    },
    {
      "cell_type": "code",
      "source": [
        "v[0][1]"
      ],
      "metadata": {
        "colab": {
          "base_uri": "https://localhost:8080/"
        },
        "id": "Ln0FLfXQPlFL",
        "outputId": "9d2cea84-4f8e-4e69-b883-13234bb0963f"
      },
      "execution_count": 280,
      "outputs": [
        {
          "output_type": "execute_result",
          "data": {
            "text/plain": [
              "tensor([4, 5, 6])"
            ]
          },
          "metadata": {},
          "execution_count": 280
        }
      ]
    },
    {
      "cell_type": "code",
      "source": [
        "v[0][0][0]"
      ],
      "metadata": {
        "colab": {
          "base_uri": "https://localhost:8080/"
        },
        "id": "p8nUAYzEPvSG",
        "outputId": "b4e17327-f601-47b3-8aa1-6d14e326e097"
      },
      "execution_count": 281,
      "outputs": [
        {
          "output_type": "execute_result",
          "data": {
            "text/plain": [
              "tensor(1)"
            ]
          },
          "metadata": {},
          "execution_count": 281
        }
      ]
    },
    {
      "cell_type": "code",
      "source": [
        "v[:,0] #all in 1st dim, 0th in 2nd dim"
      ],
      "metadata": {
        "colab": {
          "base_uri": "https://localhost:8080/"
        },
        "id": "P_0bsgKdPze1",
        "outputId": "878a60de-38c8-4947-ccaa-b5fb07814374"
      },
      "execution_count": 282,
      "outputs": [
        {
          "output_type": "execute_result",
          "data": {
            "text/plain": [
              "tensor([[1, 2, 3]])"
            ]
          },
          "metadata": {},
          "execution_count": 282
        }
      ]
    },
    {
      "cell_type": "code",
      "source": [
        "v[:,:,1]"
      ],
      "metadata": {
        "colab": {
          "base_uri": "https://localhost:8080/"
        },
        "id": "A14XAzVlQKbt",
        "outputId": "72575ec1-9683-43ba-9a7f-17cc5fd1b216"
      },
      "execution_count": 283,
      "outputs": [
        {
          "output_type": "execute_result",
          "data": {
            "text/plain": [
              "tensor([[2, 5, 8]])"
            ]
          },
          "metadata": {},
          "execution_count": 283
        }
      ]
    },
    {
      "cell_type": "code",
      "source": [
        "v[:,1,1]"
      ],
      "metadata": {
        "colab": {
          "base_uri": "https://localhost:8080/"
        },
        "id": "ee2IbCPNQrG1",
        "outputId": "0e43f90b-2414-443f-e95f-f10672c0cd71"
      },
      "execution_count": 284,
      "outputs": [
        {
          "output_type": "execute_result",
          "data": {
            "text/plain": [
              "tensor([5])"
            ]
          },
          "metadata": {},
          "execution_count": 284
        }
      ]
    },
    {
      "cell_type": "code",
      "source": [
        "v[0,0,:]"
      ],
      "metadata": {
        "colab": {
          "base_uri": "https://localhost:8080/"
        },
        "id": "d7PLJAIoQzgu",
        "outputId": "63d75b31-6e18-4a63-830b-8a7b87c96c12"
      },
      "execution_count": 285,
      "outputs": [
        {
          "output_type": "execute_result",
          "data": {
            "text/plain": [
              "tensor([1, 2, 3])"
            ]
          },
          "metadata": {},
          "execution_count": 285
        }
      ]
    },
    {
      "cell_type": "code",
      "source": [
        "v[:,:,2]"
      ],
      "metadata": {
        "colab": {
          "base_uri": "https://localhost:8080/"
        },
        "id": "5yDnbZkrRGsE",
        "outputId": "584dffec-708b-4a2c-91ce-1acf31bd03e3"
      },
      "execution_count": 286,
      "outputs": [
        {
          "output_type": "execute_result",
          "data": {
            "text/plain": [
              "tensor([[3, 6, 9]])"
            ]
          },
          "metadata": {},
          "execution_count": 286
        }
      ]
    },
    {
      "cell_type": "markdown",
      "source": [
        "###PyTorch & Numpy\n",
        "\n",
        "Numpy --> Pytorch : ```torch.from_numpy(ndarray)```\n",
        "\n",
        "Pytorch --> Numpy : ```torch.Tensor.numpy```"
      ],
      "metadata": {
        "id": "rQrpjNTzShFE"
      }
    },
    {
      "cell_type": "code",
      "source": [
        "array=np.arange(1.0,8.0)\n",
        "te = torch.from_numpy(array)\n",
        "array,te"
      ],
      "metadata": {
        "colab": {
          "base_uri": "https://localhost:8080/"
        },
        "id": "x1GMIQI9S26e",
        "outputId": "05350f6b-3f15-44ae-b0ca-4f74e883c651"
      },
      "execution_count": 287,
      "outputs": [
        {
          "output_type": "execute_result",
          "data": {
            "text/plain": [
              "(array([1., 2., 3., 4., 5., 6., 7.]),\n",
              " tensor([1., 2., 3., 4., 5., 6., 7.], dtype=torch.float64))"
            ]
          },
          "metadata": {},
          "execution_count": 287
        }
      ]
    },
    {
      "cell_type": "code",
      "source": [
        "# we dont get Pytorch default datattype; getting float64 instead of float32, getting numpys default"
      ],
      "metadata": {
        "id": "iJW8CPBPS1Cd"
      },
      "execution_count": 288,
      "outputs": []
    },
    {
      "cell_type": "code",
      "source": [
        "array=np.arange(1.0,8.0)\n",
        "te = torch.from_numpy(array).type(torch.float32).dtype\n",
        "array,te"
      ],
      "metadata": {
        "colab": {
          "base_uri": "https://localhost:8080/"
        },
        "id": "mprMxUjUWhaC",
        "outputId": "5c74eabb-40b6-485e-8865-e2796917f950"
      },
      "execution_count": 289,
      "outputs": [
        {
          "output_type": "execute_result",
          "data": {
            "text/plain": [
              "(array([1., 2., 3., 4., 5., 6., 7.]), torch.float32)"
            ]
          },
          "metadata": {},
          "execution_count": 289
        }
      ]
    },
    {
      "cell_type": "code",
      "source": [
        "#change array values in numpy array ---> doesn't change in tensor\n",
        "array=np.arange(1.0,8.0)\n",
        "te = torch.from_numpy(array)\n",
        "\n",
        "array=array+1\n",
        "array,te"
      ],
      "metadata": {
        "colab": {
          "base_uri": "https://localhost:8080/"
        },
        "id": "_XEOJaxJWy13",
        "outputId": "81ad753a-bbf8-4bd4-8c5f-c6bc3a66bd10"
      },
      "execution_count": 290,
      "outputs": [
        {
          "output_type": "execute_result",
          "data": {
            "text/plain": [
              "(array([2., 3., 4., 5., 6., 7., 8.]),\n",
              " tensor([1., 2., 3., 4., 5., 6., 7.], dtype=torch.float64))"
            ]
          },
          "metadata": {},
          "execution_count": 290
        }
      ]
    },
    {
      "cell_type": "code",
      "source": [
        "\n",
        "te1 = torch.ones(7)\n",
        "numpy_te =te1.numpy()\n",
        "te1, numpy_te"
      ],
      "metadata": {
        "colab": {
          "base_uri": "https://localhost:8080/"
        },
        "id": "zJ8ksh9NXoGi",
        "outputId": "353f643c-e591-4cdf-9893-ebcff71ae8a4"
      },
      "execution_count": 291,
      "outputs": [
        {
          "output_type": "execute_result",
          "data": {
            "text/plain": [
              "(tensor([1., 1., 1., 1., 1., 1., 1.]),\n",
              " array([1., 1., 1., 1., 1., 1., 1.], dtype=float32))"
            ]
          },
          "metadata": {},
          "execution_count": 291
        }
      ]
    },
    {
      "cell_type": "code",
      "source": [
        "#when tensor changed numpy doesnt change; dont share the memory\n",
        "te1 = torch.ones(7)\n",
        "numpy_te =te1.numpy()\n",
        "te1=te1+1\n",
        "te1, numpy_te"
      ],
      "metadata": {
        "colab": {
          "base_uri": "https://localhost:8080/"
        },
        "id": "W7mSdLNpZRfj",
        "outputId": "b5454917-a94f-4945-a62f-c30ca41ef94f"
      },
      "execution_count": 292,
      "outputs": [
        {
          "output_type": "execute_result",
          "data": {
            "text/plain": [
              "(tensor([2., 2., 2., 2., 2., 2., 2.]),\n",
              " array([1., 1., 1., 1., 1., 1., 1.], dtype=float32))"
            ]
          },
          "metadata": {},
          "execution_count": 292
        }
      ]
    },
    {
      "cell_type": "code",
      "source": [
        "#Pytorch reproducability\n",
        "#to reduce randomness; random seed\n",
        "#it flavoures randomness."
      ],
      "metadata": {
        "id": "ypDgKsGOZikE"
      },
      "execution_count": 293,
      "outputs": []
    },
    {
      "cell_type": "code",
      "source": [
        "torch.rand(3,3)"
      ],
      "metadata": {
        "colab": {
          "base_uri": "https://localhost:8080/"
        },
        "id": "Pzucs1n8bdIi",
        "outputId": "bd4e057a-8dc3-4665-e3d0-cf17e3a75b09"
      },
      "execution_count": 294,
      "outputs": [
        {
          "output_type": "execute_result",
          "data": {
            "text/plain": [
              "tensor([[0.4436, 0.9726, 0.5194],\n",
              "        [0.5337, 0.7050, 0.3362],\n",
              "        [0.7891, 0.1694, 0.1800]])"
            ]
          },
          "metadata": {},
          "execution_count": 294
        }
      ]
    },
    {
      "cell_type": "code",
      "source": [
        "#random reproducable tensors : make them roughly equal\n",
        "RANDOM_SEED =42\n",
        "torch.manual_seed(RANDOM_SEED)\n",
        "rd1 = torch.rand(3,4)\n",
        "\n",
        "torch.manual_seed(RANDOM_SEED)\n",
        "rd2 =torch.rand(3,4)\n",
        "rd1 ,rd2"
      ],
      "metadata": {
        "colab": {
          "base_uri": "https://localhost:8080/"
        },
        "id": "sDm1VDI7b8Wz",
        "outputId": "0fcd33c8-6cd0-4439-e962-5a177cb4f4b6"
      },
      "execution_count": 295,
      "outputs": [
        {
          "output_type": "execute_result",
          "data": {
            "text/plain": [
              "(tensor([[0.8823, 0.9150, 0.3829, 0.9593],\n",
              "         [0.3904, 0.6009, 0.2566, 0.7936],\n",
              "         [0.9408, 0.1332, 0.9346, 0.5936]]),\n",
              " tensor([[0.8823, 0.9150, 0.3829, 0.9593],\n",
              "         [0.3904, 0.6009, 0.2566, 0.7936],\n",
              "         [0.9408, 0.1332, 0.9346, 0.5936]]))"
            ]
          },
          "metadata": {},
          "execution_count": 295
        }
      ]
    },
    {
      "cell_type": "code",
      "source": [
        "   device =\"cuda\" if torch.cuda.is_available() else \"cpu\"\n",
        "   device"
      ],
      "metadata": {
        "colab": {
          "base_uri": "https://localhost:8080/",
          "height": 35
        },
        "id": "vhZ66QqLc7--",
        "outputId": "24a313ac-e74f-404b-ef5e-41f4fdb4aae2"
      },
      "execution_count": 296,
      "outputs": [
        {
          "output_type": "execute_result",
          "data": {
            "text/plain": [
              "'cuda'"
            ],
            "application/vnd.google.colaboratory.intrinsic+json": {
              "type": "string"
            }
          },
          "metadata": {},
          "execution_count": 296
        }
      ]
    },
    {
      "cell_type": "code",
      "source": [
        "torch.cuda.device_count()"
      ],
      "metadata": {
        "colab": {
          "base_uri": "https://localhost:8080/"
        },
        "id": "bqYURoKMi-vI",
        "outputId": "fd0c5eb4-1c6e-40ac-e14f-3f6fe2222f95"
      },
      "execution_count": 297,
      "outputs": [
        {
          "output_type": "execute_result",
          "data": {
            "text/plain": [
              "1"
            ]
          },
          "metadata": {},
          "execution_count": 297
        }
      ]
    },
    {
      "cell_type": "code",
      "source": [
        "#putting tensor models on GPU : faster computaton\n",
        "\n",
        "t = torch.tensor([1,2,3])\n",
        "t,t.device"
      ],
      "metadata": {
        "colab": {
          "base_uri": "https://localhost:8080/"
        },
        "id": "POCCxORKjJlH",
        "outputId": "94eaccb0-7924-4966-f0b4-4037af7f9857"
      },
      "execution_count": 298,
      "outputs": [
        {
          "output_type": "execute_result",
          "data": {
            "text/plain": [
              "(tensor([1, 2, 3]), device(type='cpu'))"
            ]
          },
          "metadata": {},
          "execution_count": 298
        }
      ]
    },
    {
      "cell_type": "code",
      "source": [
        "#putting to GPU\n",
        "t_on_GPU = t.to(device)\n",
        "t_on_GPU"
      ],
      "metadata": {
        "colab": {
          "base_uri": "https://localhost:8080/"
        },
        "id": "HJ9dzJGAu7TZ",
        "outputId": "aec20bd2-901b-4c03-8924-a561cebdfdb3"
      },
      "execution_count": 299,
      "outputs": [
        {
          "output_type": "execute_result",
          "data": {
            "text/plain": [
              "tensor([1, 2, 3], device='cuda:0')"
            ]
          },
          "metadata": {},
          "execution_count": 299
        }
      ]
    },
    {
      "cell_type": "code",
      "source": [
        "#tensors from GPU back to CPU\n"
      ],
      "metadata": {
        "id": "E4GZ5KTivG5D"
      },
      "execution_count": 300,
      "outputs": []
    },
    {
      "cell_type": "code",
      "source": [
        "#If tensor on GPU; we cant transform it to NUMpy\n",
        "t_backon_CPU = t_on_GPU.cpu()\n",
        "t_backon_CPU.device"
      ],
      "metadata": {
        "colab": {
          "base_uri": "https://localhost:8080/"
        },
        "id": "zGn9hv0pvbc5",
        "outputId": "915401bb-4337-4df7-9a4e-49563e91dfb0"
      },
      "execution_count": 301,
      "outputs": [
        {
          "output_type": "execute_result",
          "data": {
            "text/plain": [
              "device(type='cpu')"
            ]
          },
          "metadata": {},
          "execution_count": 301
        }
      ]
    },
    {
      "cell_type": "code",
      "source": [
        "t_backon_CPU.numpy()"
      ],
      "metadata": {
        "colab": {
          "base_uri": "https://localhost:8080/"
        },
        "id": "i4RWJCzYwddf",
        "outputId": "681be2b0-5952-4cc2-f5db-80732b682ec7"
      },
      "execution_count": 302,
      "outputs": [
        {
          "output_type": "execute_result",
          "data": {
            "text/plain": [
              "array([1, 2, 3])"
            ]
          },
          "metadata": {},
          "execution_count": 302
        }
      ]
    },
    {
      "cell_type": "code",
      "source": [
        "t_on_GPU #remains unchanged"
      ],
      "metadata": {
        "colab": {
          "base_uri": "https://localhost:8080/"
        },
        "id": "0UyZ2snUwkHr",
        "outputId": "c5dc44b5-b07d-4c1a-ad4a-d6739100992e"
      },
      "execution_count": 303,
      "outputs": [
        {
          "output_type": "execute_result",
          "data": {
            "text/plain": [
              "tensor([1, 2, 3], device='cuda:0')"
            ]
          },
          "metadata": {},
          "execution_count": 303
        }
      ]
    },
    {
      "cell_type": "code",
      "source": [],
      "metadata": {
        "id": "7z9jMpb4wusa"
      },
      "execution_count": 303,
      "outputs": []
    }
  ]
}