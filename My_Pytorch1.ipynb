{
  "nbformat": 4,
  "nbformat_minor": 0,
  "metadata": {
    "colab": {
      "provenance": [],
      "authorship_tag": "ABX9TyMYeAkQp+087/WqfuIpHdBY",
      "include_colab_link": true
    },
    "kernelspec": {
      "name": "python3",
      "display_name": "Python 3"
    },
    "language_info": {
      "name": "python"
    }
  },
  "cells": [
    {
      "cell_type": "markdown",
      "metadata": {
        "id": "view-in-github",
        "colab_type": "text"
      },
      "source": [
        "<a href=\"https://colab.research.google.com/github/DHimeka/ML-DL-/blob/main/My_Pytorch1.ipynb\" target=\"_parent\"><img src=\"https://colab.research.google.com/assets/colab-badge.svg\" alt=\"Open In Colab\"/></a>"
      ]
    },
    {
      "cell_type": "markdown",
      "source": [
        "##1. PyTorch Fundamentals\n",
        "\n",
        "Resource notebook:https://github.com/mrdbourke/pytorch-deep-learning/tree/main\n",
        "\n",
        "\n",
        "\n"
      ],
      "metadata": {
        "id": "UujcZq-mRufu"
      }
    },
    {
      "cell_type": "code",
      "execution_count": 222,
      "metadata": {
        "id": "8ziVC5xhJSZl"
      },
      "outputs": [],
      "source": [
        "import torch\n",
        "import pandas as pd\n",
        "import numpy as np\n",
        "import matplotlib.pyplot as plt\n"
      ]
    },
    {
      "cell_type": "code",
      "source": [
        "print(torch.__version__)\n"
      ],
      "metadata": {
        "colab": {
          "base_uri": "https://localhost:8080/"
        },
        "id": "VY0GZJB8QTgH",
        "outputId": "9914f058-d563-4686-b2df-612a8992367c"
      },
      "execution_count": 223,
      "outputs": [
        {
          "output_type": "stream",
          "name": "stdout",
          "text": [
            "2.0.1+cu118\n"
          ]
        }
      ]
    },
    {
      "cell_type": "code",
      "source": [
        "!nvidia-smi\n"
      ],
      "metadata": {
        "colab": {
          "base_uri": "https://localhost:8080/"
        },
        "id": "uANbb6EFQYi2",
        "outputId": "95b866f6-2433-498f-9725-625ddacb86bc"
      },
      "execution_count": 224,
      "outputs": [
        {
          "output_type": "stream",
          "name": "stdout",
          "text": [
            "/bin/bash: line 1: nvidia-smi: command not found\n"
          ]
        }
      ]
    },
    {
      "cell_type": "markdown",
      "source": [
        "#Indroduction To Tensors\n",
        "\n",
        "###Creating Tensors"
      ],
      "metadata": {
        "id": "XFuxfAyfSY77"
      }
    },
    {
      "cell_type": "code",
      "source": [
        "#scalar\n",
        "scalar=torch.tensor(7)\n",
        "scalar"
      ],
      "metadata": {
        "colab": {
          "base_uri": "https://localhost:8080/"
        },
        "id": "eVR-4m9bSiYz",
        "outputId": "39cb9465-c007-4579-cd31-d4cc4371c817"
      },
      "execution_count": 225,
      "outputs": [
        {
          "output_type": "execute_result",
          "data": {
            "text/plain": [
              "tensor(7)"
            ]
          },
          "metadata": {},
          "execution_count": 225
        }
      ]
    },
    {
      "cell_type": "code",
      "source": [
        "scalar1=torch.tensor(np.array([[1, 2, 3], [4, 5, 6]]))\n",
        "scalar1"
      ],
      "metadata": {
        "colab": {
          "base_uri": "https://localhost:8080/"
        },
        "id": "uHwfXRCGgf6w",
        "outputId": "48a990ff-1275-4a9c-9850-a4bc3ca45ca1"
      },
      "execution_count": 226,
      "outputs": [
        {
          "output_type": "execute_result",
          "data": {
            "text/plain": [
              "tensor([[1, 2, 3],\n",
              "        [4, 5, 6]])"
            ]
          },
          "metadata": {},
          "execution_count": 226
        }
      ]
    },
    {
      "cell_type": "markdown",
      "source": [
        "torch.tensor() : multi-dimensional matrix containing elements of a single data type.\n",
        "torch.tensor() always copies data.\n",
        "\n",
        "More info: https://pytorch.org/docs/stable/tensors.html\n",
        "```\n",
        "torch.tensor(np.array([[1, 2, 3], [4, 5, 6]]))\n",
        "tensor([[ 1,  2,  3],\n",
        "        [ 4,  5,  6]])\n",
        "torch.zeros([2, 4], dtype=torch.int32)\n",
        "tensor([[ 0,  0,  0,  0],\n",
        "        [ 0,  0,  0,  0]], dtype=torch.int32)\n",
        "cuda0 = torch.device('cuda:0')\n",
        "torch.ones([2, 4], dtype=torch.float64, device=cuda0)\n",
        "tensor([[ 1.0000,  1.0000,  1.0000,  1.0000],\n",
        "        [ 1.0000,  1.0000,  1.0000,  1.0000]], dtype=torch.float64, device='cuda:0')\n",
        "\n",
        "x = torch.tensor([[1]])\n",
        "x\n",
        "tensor([[ 1]])\n",
        "x.item()\n",
        "1\n",
        "x = torch.tensor(2.5)\n",
        "x\n",
        "tensor(2.5000)\n",
        "x.item()\n",
        "2.5\n",
        "```\n",
        "\n"
      ],
      "metadata": {
        "id": "vWuP87TcUFsA"
      }
    },
    {
      "cell_type": "code",
      "source": [
        "#Get tensor back as Python int\n",
        "scalar.item()\n"
      ],
      "metadata": {
        "colab": {
          "base_uri": "https://localhost:8080/"
        },
        "id": "vVFmwZXKf6MC",
        "outputId": "dec474f8-df52-49f7-82f8-bdaaafde71d4"
      },
      "execution_count": 227,
      "outputs": [
        {
          "output_type": "execute_result",
          "data": {
            "text/plain": [
              "7"
            ]
          },
          "metadata": {},
          "execution_count": 227
        }
      ]
    },
    {
      "cell_type": "code",
      "source": [
        "scalar.ndim"
      ],
      "metadata": {
        "colab": {
          "base_uri": "https://localhost:8080/"
        },
        "id": "jvFgZWu9xoR5",
        "outputId": "f0887772-8ff1-43ef-f542-0428bbd845b0"
      },
      "execution_count": 228,
      "outputs": [
        {
          "output_type": "execute_result",
          "data": {
            "text/plain": [
              "0"
            ]
          },
          "metadata": {},
          "execution_count": 228
        }
      ]
    },
    {
      "cell_type": "code",
      "source": [
        "x=scalar1[0][1]\n",
        "x.item()"
      ],
      "metadata": {
        "colab": {
          "base_uri": "https://localhost:8080/"
        },
        "id": "NbOg7FU8f2G2",
        "outputId": "f27b73b7-0952-4570-b608-d8dd9d6b0cbb"
      },
      "execution_count": 229,
      "outputs": [
        {
          "output_type": "execute_result",
          "data": {
            "text/plain": [
              "2"
            ]
          },
          "metadata": {},
          "execution_count": 229
        }
      ]
    },
    {
      "cell_type": "code",
      "source": [
        "#Vectors\n"
      ],
      "metadata": {
        "id": "0f7evP1Dftin"
      },
      "execution_count": 230,
      "outputs": []
    },
    {
      "cell_type": "markdown",
      "source": [
        "scalar: ndim 0\n",
        "\n",
        "Vector: ndim 1\n",
        "\n",
        "matrix: ndim 2\n",
        "\n",
        "tensor: ndim 3,2,1,0\n",
        "\n",
        "\n",
        "![OIP.jpeg](data:image/jpeg;base64,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)"
      ],
      "metadata": {
        "id": "D2gCPyCElCXy"
      }
    },
    {
      "cell_type": "code",
      "source": [
        "vector=torch.tensor([7,8,1])\n",
        "vector"
      ],
      "metadata": {
        "colab": {
          "base_uri": "https://localhost:8080/"
        },
        "id": "DPiyHPwQlB56",
        "outputId": "641a0ecd-fe41-486a-af32-55e833cb6448"
      },
      "execution_count": 231,
      "outputs": [
        {
          "output_type": "execute_result",
          "data": {
            "text/plain": [
              "tensor([7, 8, 1])"
            ]
          },
          "metadata": {},
          "execution_count": 231
        }
      ]
    },
    {
      "cell_type": "code",
      "source": [
        "vector.shape"
      ],
      "metadata": {
        "colab": {
          "base_uri": "https://localhost:8080/"
        },
        "id": "PuUHEgpml2Vx",
        "outputId": "7610d364-0f5c-4d78-8a65-e4f42614b6e4"
      },
      "execution_count": 232,
      "outputs": [
        {
          "output_type": "execute_result",
          "data": {
            "text/plain": [
              "torch.Size([3])"
            ]
          },
          "metadata": {},
          "execution_count": 232
        }
      ]
    },
    {
      "cell_type": "code",
      "source": [
        "vector.ndim"
      ],
      "metadata": {
        "colab": {
          "base_uri": "https://localhost:8080/"
        },
        "id": "gvFccI5_l9LL",
        "outputId": "600c1b22-1829-4c79-f3b9-0c4a4bca37ef"
      },
      "execution_count": 233,
      "outputs": [
        {
          "output_type": "execute_result",
          "data": {
            "text/plain": [
              "1"
            ]
          },
          "metadata": {},
          "execution_count": 233
        }
      ]
    },
    {
      "cell_type": "code",
      "source": [
        "#matrix\n",
        "matrix=torch.tensor([[4,7,2],[7,8,1]])\n",
        "matrix"
      ],
      "metadata": {
        "colab": {
          "base_uri": "https://localhost:8080/"
        },
        "id": "0rlwiQ7smAVd",
        "outputId": "a91a6095-9ac8-4fe6-949a-7eb81876e7b3"
      },
      "execution_count": 234,
      "outputs": [
        {
          "output_type": "execute_result",
          "data": {
            "text/plain": [
              "tensor([[4, 7, 2],\n",
              "        [7, 8, 1]])"
            ]
          },
          "metadata": {},
          "execution_count": 234
        }
      ]
    },
    {
      "cell_type": "code",
      "source": [
        "matrix.ndim"
      ],
      "metadata": {
        "colab": {
          "base_uri": "https://localhost:8080/"
        },
        "id": "kt4h7cMemPR-",
        "outputId": "49434acb-9e87-4cb0-dffb-f68afde550e5"
      },
      "execution_count": 235,
      "outputs": [
        {
          "output_type": "execute_result",
          "data": {
            "text/plain": [
              "2"
            ]
          },
          "metadata": {},
          "execution_count": 235
        }
      ]
    },
    {
      "cell_type": "code",
      "source": [
        "matrix.shape"
      ],
      "metadata": {
        "colab": {
          "base_uri": "https://localhost:8080/"
        },
        "id": "QjyPmnkymSLR",
        "outputId": "ba07b74f-4181-43f5-c592-6bb522e549de"
      },
      "execution_count": 236,
      "outputs": [
        {
          "output_type": "execute_result",
          "data": {
            "text/plain": [
              "torch.Size([2, 3])"
            ]
          },
          "metadata": {},
          "execution_count": 236
        }
      ]
    },
    {
      "cell_type": "markdown",
      "source": [
        "x.shape: returns torch.Size([rows,columns])"
      ],
      "metadata": {
        "id": "iSoToqMmmYmz"
      }
    },
    {
      "cell_type": "code",
      "source": [
        "matrix[0]"
      ],
      "metadata": {
        "colab": {
          "base_uri": "https://localhost:8080/"
        },
        "id": "fvuQYdF9mf54",
        "outputId": "eacb6cc1-af7a-47b0-c06d-0ea1641ecbf4"
      },
      "execution_count": 237,
      "outputs": [
        {
          "output_type": "execute_result",
          "data": {
            "text/plain": [
              "tensor([4, 7, 2])"
            ]
          },
          "metadata": {},
          "execution_count": 237
        }
      ]
    },
    {
      "cell_type": "code",
      "source": [
        "#Tensor\n",
        "Tensor=torch.tensor([[[1,2,3],\n",
        "                      [3,6,9],\n",
        "                      [2,5,6]]])\n",
        "Tensor1=torch.tensor([[[1,2,3],\n",
        "                       [4,5,6]],[[4,5,6],\n",
        "                                 [7,8,9]]])\n",
        "Tensor"
      ],
      "metadata": {
        "colab": {
          "base_uri": "https://localhost:8080/"
        },
        "id": "6KO7OxXunJPp",
        "outputId": "24157fc7-59f7-467d-c395-ed2ef061ab5b"
      },
      "execution_count": 238,
      "outputs": [
        {
          "output_type": "execute_result",
          "data": {
            "text/plain": [
              "tensor([[[1, 2, 3],\n",
              "         [3, 6, 9],\n",
              "         [2, 5, 6]]])"
            ]
          },
          "metadata": {},
          "execution_count": 238
        }
      ]
    },
    {
      "cell_type": "code",
      "source": [
        "Tensor.ndim"
      ],
      "metadata": {
        "colab": {
          "base_uri": "https://localhost:8080/"
        },
        "id": "xWjXu_8Lng02",
        "outputId": "d70b2b6e-6b72-4c0b-b420-920955c43864"
      },
      "execution_count": 239,
      "outputs": [
        {
          "output_type": "execute_result",
          "data": {
            "text/plain": [
              "3"
            ]
          },
          "metadata": {},
          "execution_count": 239
        }
      ]
    },
    {
      "cell_type": "code",
      "source": [
        "Tensor.shape"
      ],
      "metadata": {
        "colab": {
          "base_uri": "https://localhost:8080/"
        },
        "id": "3DZmjsoOni8e",
        "outputId": "ea838d8b-259a-40d2-813d-3a37cc048491"
      },
      "execution_count": 240,
      "outputs": [
        {
          "output_type": "execute_result",
          "data": {
            "text/plain": [
              "torch.Size([1, 3, 3])"
            ]
          },
          "metadata": {},
          "execution_count": 240
        }
      ]
    },
    {
      "cell_type": "markdown",
      "source": [
        "Tensor.shape: returns torch.Size([channels,rows,columns])\n",
        "\n",
        "> Indented block\n",
        "\n"
      ],
      "metadata": {
        "id": "H-cSLfKWnr1K"
      }
    },
    {
      "cell_type": "code",
      "source": [
        "Tensor[0]"
      ],
      "metadata": {
        "colab": {
          "base_uri": "https://localhost:8080/"
        },
        "id": "NpyLGcAJn01i",
        "outputId": "f806b900-43f2-41b1-f324-e515d1325620"
      },
      "execution_count": 241,
      "outputs": [
        {
          "output_type": "execute_result",
          "data": {
            "text/plain": [
              "tensor([[1, 2, 3],\n",
              "        [3, 6, 9],\n",
              "        [2, 5, 6]])"
            ]
          },
          "metadata": {},
          "execution_count": 241
        }
      ]
    },
    {
      "cell_type": "code",
      "source": [
        "Tensor[0][1]"
      ],
      "metadata": {
        "colab": {
          "base_uri": "https://localhost:8080/"
        },
        "id": "4mFUO9Fdn_BG",
        "outputId": "48cf6696-5a9a-4176-99f8-7f7e4677f4e8"
      },
      "execution_count": 242,
      "outputs": [
        {
          "output_type": "execute_result",
          "data": {
            "text/plain": [
              "tensor([3, 6, 9])"
            ]
          },
          "metadata": {},
          "execution_count": 242
        }
      ]
    },
    {
      "cell_type": "code",
      "source": [
        "Tensor1"
      ],
      "metadata": {
        "colab": {
          "base_uri": "https://localhost:8080/"
        },
        "id": "ls2pYYCKwHNO",
        "outputId": "e1ab5313-9ee7-4786-d491-87cacb968792"
      },
      "execution_count": 243,
      "outputs": [
        {
          "output_type": "execute_result",
          "data": {
            "text/plain": [
              "tensor([[[1, 2, 3],\n",
              "         [4, 5, 6]],\n",
              "\n",
              "        [[4, 5, 6],\n",
              "         [7, 8, 9]]])"
            ]
          },
          "metadata": {},
          "execution_count": 243
        }
      ]
    },
    {
      "cell_type": "code",
      "source": [
        "Tensor1.ndim"
      ],
      "metadata": {
        "colab": {
          "base_uri": "https://localhost:8080/"
        },
        "id": "hIB-783DxWVA",
        "outputId": "17f73076-54b6-451b-efa0-69518ab53464"
      },
      "execution_count": 244,
      "outputs": [
        {
          "output_type": "execute_result",
          "data": {
            "text/plain": [
              "3"
            ]
          },
          "metadata": {},
          "execution_count": 244
        }
      ]
    },
    {
      "cell_type": "code",
      "source": [
        "Tensor1.shape"
      ],
      "metadata": {
        "colab": {
          "base_uri": "https://localhost:8080/"
        },
        "id": "oG_9xNZIxcMb",
        "outputId": "4dcd5cce-3d8b-47b4-9d54-e2d7a1426ad3"
      },
      "execution_count": 245,
      "outputs": [
        {
          "output_type": "execute_result",
          "data": {
            "text/plain": [
              "torch.Size([2, 2, 3])"
            ]
          },
          "metadata": {},
          "execution_count": 245
        }
      ]
    },
    {
      "cell_type": "markdown",
      "source": [
        "###Random Sensors\n",
        "Read : https://pytorch.org/docs/stable/generated/torch.rand.html"
      ],
      "metadata": {
        "id": "cT_4gC9LzZST"
      }
    },
    {
      "cell_type": "code",
      "source": [
        "#Random tensors\n",
        "random=torch.rand(2,3,4)\n",
        "random"
      ],
      "metadata": {
        "colab": {
          "base_uri": "https://localhost:8080/"
        },
        "id": "yOUuu91ny7zM",
        "outputId": "7efc2aed-ca55-4ccf-98d5-8cbb07115220"
      },
      "execution_count": 246,
      "outputs": [
        {
          "output_type": "execute_result",
          "data": {
            "text/plain": [
              "tensor([[[0.7717, 0.8665, 0.1674, 0.2548],\n",
              "         [0.6898, 0.1021, 0.7949, 0.0186],\n",
              "         [0.3482, 0.8158, 0.7775, 0.1746]],\n",
              "\n",
              "        [[0.0028, 0.2181, 0.8310, 0.4212],\n",
              "         [0.4260, 0.4903, 0.2893, 0.9113],\n",
              "         [0.4382, 0.1363, 0.6942, 0.9289]]])"
            ]
          },
          "metadata": {},
          "execution_count": 246
        }
      ]
    },
    {
      "cell_type": "code",
      "source": [
        "#images to tensors\n",
        "image_random=torch.rand(size=(3,224,224))#height,width,channel\n",
        "image_random.shape,image_random.ndim"
      ],
      "metadata": {
        "colab": {
          "base_uri": "https://localhost:8080/"
        },
        "id": "QNLIVmqV2iwl",
        "outputId": "578f1d4c-bc44-4f66-9881-ee6a81fb3de5"
      },
      "execution_count": 247,
      "outputs": [
        {
          "output_type": "execute_result",
          "data": {
            "text/plain": [
              "(torch.Size([3, 224, 224]), 3)"
            ]
          },
          "metadata": {},
          "execution_count": 247
        }
      ]
    },
    {
      "cell_type": "code",
      "source": [
        "z=torch.zeros(2,3,4)\n",
        "z"
      ],
      "metadata": {
        "colab": {
          "base_uri": "https://localhost:8080/"
        },
        "id": "HynNwQpt2iye",
        "outputId": "0d9ab28a-586f-4c7d-cc8d-485dadbc83b7"
      },
      "execution_count": 248,
      "outputs": [
        {
          "output_type": "execute_result",
          "data": {
            "text/plain": [
              "tensor([[[0., 0., 0., 0.],\n",
              "         [0., 0., 0., 0.],\n",
              "         [0., 0., 0., 0.]],\n",
              "\n",
              "        [[0., 0., 0., 0.],\n",
              "         [0., 0., 0., 0.],\n",
              "         [0., 0., 0., 0.]]])"
            ]
          },
          "metadata": {},
          "execution_count": 248
        }
      ]
    },
    {
      "cell_type": "code",
      "source": [
        "o=torch.ones(1,2,3)\n",
        "o"
      ],
      "metadata": {
        "colab": {
          "base_uri": "https://localhost:8080/"
        },
        "id": "hWiH7WDs6sIs",
        "outputId": "f896e7b2-5557-4c81-8e80-184284a12a3f"
      },
      "execution_count": 249,
      "outputs": [
        {
          "output_type": "execute_result",
          "data": {
            "text/plain": [
              "tensor([[[1., 1., 1.],\n",
              "         [1., 1., 1.]]])"
            ]
          },
          "metadata": {},
          "execution_count": 249
        }
      ]
    },
    {
      "cell_type": "code",
      "source": [
        "o.dtype"
      ],
      "metadata": {
        "colab": {
          "base_uri": "https://localhost:8080/"
        },
        "id": "JmuPlD_V68kZ",
        "outputId": "d0f02331-ae7f-4d84-935f-33e389569041"
      },
      "execution_count": 250,
      "outputs": [
        {
          "output_type": "execute_result",
          "data": {
            "text/plain": [
              "torch.float32"
            ]
          },
          "metadata": {},
          "execution_count": 250
        }
      ]
    },
    {
      "cell_type": "markdown",
      "source": [
        "###Creating a range of Tensors and Tensors-like\n",
        "\n",
        "\n",
        "\n"
      ],
      "metadata": {
        "id": "bgrgNSrp7JKg"
      }
    },
    {
      "cell_type": "code",
      "source": [
        "torch.arange(1,11)"
      ],
      "metadata": {
        "colab": {
          "base_uri": "https://localhost:8080/"
        },
        "id": "hr8--wrI7UPR",
        "outputId": "bb0d8081-3294-431f-f7ca-8c226288989b"
      },
      "execution_count": 251,
      "outputs": [
        {
          "output_type": "execute_result",
          "data": {
            "text/plain": [
              "tensor([ 1,  2,  3,  4,  5,  6,  7,  8,  9, 10])"
            ]
          },
          "metadata": {},
          "execution_count": 251
        }
      ]
    },
    {
      "cell_type": "code",
      "source": [
        "torch.arange(start=0,end=1000,step=80)"
      ],
      "metadata": {
        "colab": {
          "base_uri": "https://localhost:8080/"
        },
        "id": "hz6AkBaQ7O-l",
        "outputId": "a33e2034-0a71-4a9f-fc3f-f6c5235e8729"
      },
      "execution_count": 252,
      "outputs": [
        {
          "output_type": "execute_result",
          "data": {
            "text/plain": [
              "tensor([  0,  80, 160, 240, 320, 400, 480, 560, 640, 720, 800, 880, 960])"
            ]
          },
          "metadata": {},
          "execution_count": 252
        }
      ]
    },
    {
      "cell_type": "code",
      "source": [
        "#tensors-like\n",
        "tz=torch.zeros_like(torch.arange(0,1000,80))\n",
        "tz"
      ],
      "metadata": {
        "colab": {
          "base_uri": "https://localhost:8080/"
        },
        "id": "uU0-c2Nr7yPl",
        "outputId": "749efa44-8464-4078-8a84-69583898a3f7"
      },
      "execution_count": 253,
      "outputs": [
        {
          "output_type": "execute_result",
          "data": {
            "text/plain": [
              "tensor([0, 0, 0, 0, 0, 0, 0, 0, 0, 0, 0, 0, 0])"
            ]
          },
          "metadata": {},
          "execution_count": 253
        }
      ]
    },
    {
      "cell_type": "markdown",
      "source": [
        "###Tensor Datatypes\n",
        "\n",
        "default; float32, int64"
      ],
      "metadata": {
        "id": "lNe1bANm9GA_"
      }
    },
    {
      "cell_type": "code",
      "source": [
        "a =torch.tensor([1,2,5],dtype=None,#datatype\n",
        "                device=None,\n",
        "                requires_grad=False)\n",
        "a"
      ],
      "metadata": {
        "colab": {
          "base_uri": "https://localhost:8080/"
        },
        "id": "L0TpIPmT83sd",
        "outputId": "2fe68538-df62-4b71-a5d2-ab95b998479e"
      },
      "execution_count": 254,
      "outputs": [
        {
          "output_type": "execute_result",
          "data": {
            "text/plain": [
              "tensor([1, 2, 5])"
            ]
          },
          "metadata": {},
          "execution_count": 254
        }
      ]
    },
    {
      "cell_type": "code",
      "source": [
        "a.dtype"
      ],
      "metadata": {
        "colab": {
          "base_uri": "https://localhost:8080/"
        },
        "id": "qivx85pTGzkm",
        "outputId": "ba7cdc39-1359-4ae7-88d7-dd67fb60d0ee"
      },
      "execution_count": 255,
      "outputs": [
        {
          "output_type": "execute_result",
          "data": {
            "text/plain": [
              "torch.int64"
            ]
          },
          "metadata": {},
          "execution_count": 255
        }
      ]
    },
    {
      "cell_type": "code",
      "source": [
        "b =torch.tensor([1.0,2.0,5.0],dtype=None,#datatype\n",
        "                device=None,\n",
        "                requires_grad=False)\n",
        "b.dtype"
      ],
      "metadata": {
        "colab": {
          "base_uri": "https://localhost:8080/"
        },
        "id": "y9oOyferOeKO",
        "outputId": "423b0696-9701-40b1-e309-c469532f48e8"
      },
      "execution_count": 256,
      "outputs": [
        {
          "output_type": "execute_result",
          "data": {
            "text/plain": [
              "torch.float32"
            ]
          },
          "metadata": {},
          "execution_count": 256
        }
      ]
    },
    {
      "cell_type": "code",
      "source": [
        "c =torch.tensor([1.0,2.0,5.0],dtype=torch.float16,#datatype\n",
        "                device=None,#device on tensor cpu/cuda\n",
        "                requires_grad=False)#calculate or not the gradient\n",
        "c.device"
      ],
      "metadata": {
        "colab": {
          "base_uri": "https://localhost:8080/"
        },
        "id": "3GuvIg9nOkei",
        "outputId": "02aa53f6-0669-4993-abc0-61c1e2d3329c"
      },
      "execution_count": 257,
      "outputs": [
        {
          "output_type": "execute_result",
          "data": {
            "text/plain": [
              "device(type='cpu')"
            ]
          },
          "metadata": {},
          "execution_count": 257
        }
      ]
    },
    {
      "cell_type": "code",
      "source": [
        "d =b.type(torch.float64)\n",
        "d"
      ],
      "metadata": {
        "colab": {
          "base_uri": "https://localhost:8080/"
        },
        "id": "QsLNlbjaPLMC",
        "outputId": "012fafc1-4ffa-45f2-adc5-19ec38bb3357"
      },
      "execution_count": 258,
      "outputs": [
        {
          "output_type": "execute_result",
          "data": {
            "text/plain": [
              "tensor([1., 2., 5.], dtype=torch.float64)"
            ]
          },
          "metadata": {},
          "execution_count": 258
        }
      ]
    },
    {
      "cell_type": "code",
      "source": [
        "f =c*d\n",
        "f.dtype,f"
      ],
      "metadata": {
        "colab": {
          "base_uri": "https://localhost:8080/"
        },
        "id": "v9ZNdFLLPgqk",
        "outputId": "7f8a2889-d079-43e3-949b-c4cd915a272c"
      },
      "execution_count": 259,
      "outputs": [
        {
          "output_type": "execute_result",
          "data": {
            "text/plain": [
              "(torch.float64, tensor([ 1.,  4., 25.], dtype=torch.float64))"
            ]
          },
          "metadata": {},
          "execution_count": 259
        }
      ]
    },
    {
      "cell_type": "code",
      "source": [
        "a*b\n",
        "a.dtype,a"
      ],
      "metadata": {
        "colab": {
          "base_uri": "https://localhost:8080/"
        },
        "id": "cOUM88B4P4pC",
        "outputId": "9b64cb21-5066-46fe-aada-707d653b5723"
      },
      "execution_count": 260,
      "outputs": [
        {
          "output_type": "execute_result",
          "data": {
            "text/plain": [
              "(torch.int64, tensor([1, 2, 5]))"
            ]
          },
          "metadata": {},
          "execution_count": 260
        }
      ]
    },
    {
      "cell_type": "markdown",
      "source": [
        "###Getting Info from tensors\n",
        "\n",
        "1.not right data type : get ```tensor.dtype```\n",
        "\n",
        "2.not right shape : get ```tensor.shape``` or ```tensor.size()```\n",
        "\n",
        "3.not right device : get ```tensor.device```"
      ],
      "metadata": {
        "id": "S2PFsoF5RlSr"
      }
    },
    {
      "cell_type": "markdown",
      "source": [
        "###Manipulating Tensors\n",
        "Tensor operations: Addition, Substraction, Multiplication, Division, Matrix Multiplication."
      ],
      "metadata": {
        "id": "l1q_PU8CSV1N"
      }
    },
    {
      "cell_type": "code",
      "source": [
        "a\n"
      ],
      "metadata": {
        "colab": {
          "base_uri": "https://localhost:8080/"
        },
        "id": "CVeyF9lrQNKQ",
        "outputId": "87c04984-3d8a-4e29-eb54-a0f9559c727e"
      },
      "execution_count": 261,
      "outputs": [
        {
          "output_type": "execute_result",
          "data": {
            "text/plain": [
              "tensor([1, 2, 5])"
            ]
          },
          "metadata": {},
          "execution_count": 261
        }
      ]
    },
    {
      "cell_type": "code",
      "source": [
        "print(a+10)"
      ],
      "metadata": {
        "colab": {
          "base_uri": "https://localhost:8080/"
        },
        "id": "-8oPz8C2S699",
        "outputId": "69419370-0a01-4de9-fcb3-2fea0a3b3dd2"
      },
      "execution_count": 262,
      "outputs": [
        {
          "output_type": "stream",
          "name": "stdout",
          "text": [
            "tensor([11, 12, 15])\n"
          ]
        }
      ]
    },
    {
      "cell_type": "code",
      "source": [
        "print(a*10)"
      ],
      "metadata": {
        "colab": {
          "base_uri": "https://localhost:8080/"
        },
        "id": "J5Pk87VyS8RM",
        "outputId": "6f4cc571-77cc-4a65-e35f-e9345f1dc969"
      },
      "execution_count": 263,
      "outputs": [
        {
          "output_type": "stream",
          "name": "stdout",
          "text": [
            "tensor([10, 20, 50])\n"
          ]
        }
      ]
    },
    {
      "cell_type": "code",
      "source": [
        "a-5"
      ],
      "metadata": {
        "colab": {
          "base_uri": "https://localhost:8080/"
        },
        "id": "Tu_0fnnYTR_j",
        "outputId": "ff86d064-e6ff-40ce-d039-4f4c01cdab9b"
      },
      "execution_count": 264,
      "outputs": [
        {
          "output_type": "execute_result",
          "data": {
            "text/plain": [
              "tensor([-4, -3,  0])"
            ]
          },
          "metadata": {},
          "execution_count": 264
        }
      ]
    },
    {
      "cell_type": "code",
      "source": [
        "torch.mul(a,5)"
      ],
      "metadata": {
        "colab": {
          "base_uri": "https://localhost:8080/"
        },
        "id": "aUPqTYCETUcR",
        "outputId": "c820eabd-74d9-4d79-85f0-18ef745bd963"
      },
      "execution_count": 265,
      "outputs": [
        {
          "output_type": "execute_result",
          "data": {
            "text/plain": [
              "tensor([ 5, 10, 25])"
            ]
          },
          "metadata": {},
          "execution_count": 265
        }
      ]
    },
    {
      "cell_type": "code",
      "source": [
        "torch.add(a,20)"
      ],
      "metadata": {
        "colab": {
          "base_uri": "https://localhost:8080/"
        },
        "id": "6BJ0StHgTgaY",
        "outputId": "c61d444e-7983-425d-df92-4059035cb7c5"
      },
      "execution_count": 266,
      "outputs": [
        {
          "output_type": "execute_result",
          "data": {
            "text/plain": [
              "tensor([21, 22, 25])"
            ]
          },
          "metadata": {},
          "execution_count": 266
        }
      ]
    },
    {
      "cell_type": "code",
      "source": [
        "#scalar/elementwise multiplication\n",
        "e=torch.tensor([5,2,9])\n",
        "print(a,'*',e),print(a*e)\n",
        "\n"
      ],
      "metadata": {
        "colab": {
          "base_uri": "https://localhost:8080/"
        },
        "id": "rC70NSx-TmXR",
        "outputId": "92007aac-7f78-4908-f48b-d4bfa8b7aa48"
      },
      "execution_count": 267,
      "outputs": [
        {
          "output_type": "stream",
          "name": "stdout",
          "text": [
            "tensor([1, 2, 5]) * tensor([5, 2, 9])\n",
            "tensor([ 5,  4, 45])\n"
          ]
        },
        {
          "output_type": "execute_result",
          "data": {
            "text/plain": [
              "(None, None)"
            ]
          },
          "metadata": {},
          "execution_count": 267
        }
      ]
    },
    {
      "cell_type": "code",
      "source": [
        "a.shape, e.shape"
      ],
      "metadata": {
        "colab": {
          "base_uri": "https://localhost:8080/"
        },
        "id": "2ZlH-zULba-j",
        "outputId": "13d6c2e7-c877-4c35-a3d7-8ca12dbc8b82"
      },
      "execution_count": 268,
      "outputs": [
        {
          "output_type": "execute_result",
          "data": {
            "text/plain": [
              "(torch.Size([3]), torch.Size([3]))"
            ]
          },
          "metadata": {},
          "execution_count": 268
        }
      ]
    },
    {
      "cell_type": "code",
      "source": [
        "%time\n",
        "#matrix multiplication /dot product(1*5+2*2+5*9)\n",
        "torch.matmul(a,e),print(a@e)\n",
        "#get addition of (a*e)"
      ],
      "metadata": {
        "colab": {
          "base_uri": "https://localhost:8080/"
        },
        "id": "mdB9SYUSYiXv",
        "outputId": "ed3cb547-355a-4888-98dc-53ac97380954"
      },
      "execution_count": 269,
      "outputs": [
        {
          "output_type": "stream",
          "name": "stdout",
          "text": [
            "CPU times: user 4 µs, sys: 1 µs, total: 5 µs\n",
            "Wall time: 9.54 µs\n",
            "tensor(54)\n"
          ]
        },
        {
          "output_type": "execute_result",
          "data": {
            "text/plain": [
              "(tensor(54), None)"
            ]
          },
          "metadata": {},
          "execution_count": 269
        }
      ]
    },
    {
      "cell_type": "markdown",
      "source": [
        "Rules for dot product\n",
        "\n",
        "The **inner dimensions** must match\n",
        "1. ```(3,2)@(2,3)```\n",
        "Resulting matrix dimensions has the shape of outer dimenssions\n",
        "1. ```(3,3)```"
      ],
      "metadata": {
        "id": "yYNLFJvPZ5L-"
      }
    },
    {
      "cell_type": "code",
      "source": [
        "\n",
        "torch.rand(1,2,3)@ torch.rand(1,3,2)\n"
      ],
      "metadata": {
        "colab": {
          "base_uri": "https://localhost:8080/"
        },
        "id": "gHwJOdWCY5CM",
        "outputId": "1ee4ec59-ec37-430f-8790-9c7fdc18b2c7"
      },
      "execution_count": 270,
      "outputs": [
        {
          "output_type": "execute_result",
          "data": {
            "text/plain": [
              "tensor([[[0.1470, 0.3764],\n",
              "         [0.2289, 0.8924]]])"
            ]
          },
          "metadata": {},
          "execution_count": 270
        }
      ]
    },
    {
      "cell_type": "code",
      "source": [
        "f = torch.tensor([[1,2,3],[2,8,6]])\n",
        "f.shape, f"
      ],
      "metadata": {
        "colab": {
          "base_uri": "https://localhost:8080/"
        },
        "id": "YZg9fyi6bOzm",
        "outputId": "a0b675a6-d10e-48aa-d5e8-ec9a33e40dec"
      },
      "execution_count": 271,
      "outputs": [
        {
          "output_type": "execute_result",
          "data": {
            "text/plain": [
              "(torch.Size([2, 3]),\n",
              " tensor([[1, 2, 3],\n",
              "         [2, 8, 6]]))"
            ]
          },
          "metadata": {},
          "execution_count": 271
        }
      ]
    },
    {
      "cell_type": "code",
      "source": [
        "f.T #finding Transpose"
      ],
      "metadata": {
        "colab": {
          "base_uri": "https://localhost:8080/"
        },
        "id": "V2rA0WPDjXJp",
        "outputId": "8aa8a7cb-004b-4a74-c29f-0db17404fdc8"
      },
      "execution_count": 272,
      "outputs": [
        {
          "output_type": "execute_result",
          "data": {
            "text/plain": [
              "tensor([[1, 2],\n",
              "        [2, 8],\n",
              "        [3, 6]])"
            ]
          },
          "metadata": {},
          "execution_count": 272
        }
      ]
    },
    {
      "cell_type": "markdown",
      "source": [
        "###Finding min, max,mean,sum, etc"
      ],
      "metadata": {
        "id": "CvJ7OQqwkXSX"
      }
    },
    {
      "cell_type": "code",
      "source": [
        "g = torch.arange(0,100,10)\n",
        "g"
      ],
      "metadata": {
        "colab": {
          "base_uri": "https://localhost:8080/"
        },
        "id": "oftAkRAHkgDw",
        "outputId": "d5c9ecf9-c92a-46c6-c8e2-96ea2e718f80"
      },
      "execution_count": 273,
      "outputs": [
        {
          "output_type": "execute_result",
          "data": {
            "text/plain": [
              "tensor([ 0, 10, 20, 30, 40, 50, 60, 70, 80, 90])"
            ]
          },
          "metadata": {},
          "execution_count": 273
        }
      ]
    },
    {
      "cell_type": "code",
      "source": [
        "torch.min(g), g.min()"
      ],
      "metadata": {
        "colab": {
          "base_uri": "https://localhost:8080/"
        },
        "id": "KVRGmoEjkp1m",
        "outputId": "2cfdeb31-a675-454a-856c-52ea335215a6"
      },
      "execution_count": 274,
      "outputs": [
        {
          "output_type": "execute_result",
          "data": {
            "text/plain": [
              "(tensor(0), tensor(0))"
            ]
          },
          "metadata": {},
          "execution_count": 274
        }
      ]
    },
    {
      "cell_type": "code",
      "source": [
        "torch.max(g),g.max()"
      ],
      "metadata": {
        "colab": {
          "base_uri": "https://localhost:8080/"
        },
        "id": "8IZ8WgIzkybh",
        "outputId": "67b13a55-e122-4ce0-95cc-5d1fe094e683"
      },
      "execution_count": 275,
      "outputs": [
        {
          "output_type": "execute_result",
          "data": {
            "text/plain": [
              "(tensor(90), tensor(90))"
            ]
          },
          "metadata": {},
          "execution_count": 275
        }
      ]
    },
    {
      "cell_type": "code",
      "source": [
        "#torch.mean(g) could not infer output dtype. Input dtype must be either a floating point or complex dtype. Got: Long\n",
        "h = g.type(torch.float32) #To find the mean datatype should be Float or complex\n",
        "torch.mean(h), h.mean()"
      ],
      "metadata": {
        "colab": {
          "base_uri": "https://localhost:8080/"
        },
        "id": "kz5lScc2k1kG",
        "outputId": "8be93fdc-4970-4d5f-a028-88cb6c93d93d"
      },
      "execution_count": 276,
      "outputs": [
        {
          "output_type": "execute_result",
          "data": {
            "text/plain": [
              "(tensor(45.), tensor(45.))"
            ]
          },
          "metadata": {},
          "execution_count": 276
        }
      ]
    },
    {
      "cell_type": "markdown",
      "source": [
        "###To find the mean, datatype should be **Float** or **Complex**\n",
        "\n",
        "refer: https://pytorch.org/docs/stable/generated/torch.mean.html"
      ],
      "metadata": {
        "id": "xZbt5iNrlwKs"
      }
    },
    {
      "cell_type": "code",
      "source": [
        "torch.mean(g.type(torch.float32)), g.type(torch.float32).mean()"
      ],
      "metadata": {
        "colab": {
          "base_uri": "https://localhost:8080/"
        },
        "id": "Ztp-63PLl2sJ",
        "outputId": "444e443b-0b2f-4f9a-d59e-10179c02e332"
      },
      "execution_count": 277,
      "outputs": [
        {
          "output_type": "execute_result",
          "data": {
            "text/plain": [
              "(tensor(45.), tensor(45.))"
            ]
          },
          "metadata": {},
          "execution_count": 277
        }
      ]
    },
    {
      "cell_type": "code",
      "source": [
        "torch.sum(g),g.sum()"
      ],
      "metadata": {
        "colab": {
          "base_uri": "https://localhost:8080/"
        },
        "id": "BA5XjNNsmdw5",
        "outputId": "2de3e244-7cfa-4df8-d85a-ffc436148138"
      },
      "execution_count": 278,
      "outputs": [
        {
          "output_type": "execute_result",
          "data": {
            "text/plain": [
              "(tensor(450), tensor(450))"
            ]
          },
          "metadata": {},
          "execution_count": 278
        }
      ]
    },
    {
      "cell_type": "code",
      "source": [
        "#Finding position of  min and max\n",
        "g.argmin()"
      ],
      "metadata": {
        "colab": {
          "base_uri": "https://localhost:8080/"
        },
        "id": "HCPUABS2mjkB",
        "outputId": "19dce3a3-baaf-4d98-d5fc-daa53b648de3"
      },
      "execution_count": 279,
      "outputs": [
        {
          "output_type": "execute_result",
          "data": {
            "text/plain": [
              "tensor(0)"
            ]
          },
          "metadata": {},
          "execution_count": 279
        }
      ]
    },
    {
      "cell_type": "code",
      "source": [
        "g.argmax()"
      ],
      "metadata": {
        "colab": {
          "base_uri": "https://localhost:8080/"
        },
        "id": "5NyD93d4mxGG",
        "outputId": "ef8c6c4a-e5f6-466b-f9ed-c31f837f14e8"
      },
      "execution_count": 280,
      "outputs": [
        {
          "output_type": "execute_result",
          "data": {
            "text/plain": [
              "tensor(9)"
            ]
          },
          "metadata": {},
          "execution_count": 280
        }
      ]
    },
    {
      "cell_type": "markdown",
      "source": [
        "##Reshaping, Stacking, Squeezing, Unsqueezing Tensors\n",
        "\n",
        "*   Reshaping\n",
        "*   Stacking\n",
        "*   Viewing\n",
        "*   Squeeze/Unsqeeze\n",
        "*   Permute\n"
      ],
      "metadata": {
        "id": "S78NPS0-nTa7"
      }
    },
    {
      "cell_type": "code",
      "source": [
        "a"
      ],
      "metadata": {
        "colab": {
          "base_uri": "https://localhost:8080/"
        },
        "id": "kmsPHmoMivab",
        "outputId": "60d7fffd-8738-4ea2-b271-a8c9d26c2d8d"
      },
      "execution_count": 281,
      "outputs": [
        {
          "output_type": "execute_result",
          "data": {
            "text/plain": [
              "tensor([1, 2, 5])"
            ]
          },
          "metadata": {},
          "execution_count": 281
        }
      ]
    },
    {
      "cell_type": "code",
      "source": [
        "a_reshaped= a.reshape(1,3)\n",
        "a_reshaped, a_reshaped.shape"
      ],
      "metadata": {
        "colab": {
          "base_uri": "https://localhost:8080/"
        },
        "id": "84Fp_waEfyuf",
        "outputId": "be428ebe-c62a-46f3-8890-3f6ea0646937"
      },
      "execution_count": 282,
      "outputs": [
        {
          "output_type": "execute_result",
          "data": {
            "text/plain": [
              "(tensor([[1, 2, 5]]), torch.Size([1, 3]))"
            ]
          },
          "metadata": {},
          "execution_count": 282
        }
      ]
    },
    {
      "cell_type": "code",
      "source": [
        "a_0= a.reshape(3,1)\n",
        "a_0, a_0.shape"
      ],
      "metadata": {
        "colab": {
          "base_uri": "https://localhost:8080/"
        },
        "id": "pNsgQBhygQfz",
        "outputId": "efdccf21-10dc-4ecc-88af-9e2fef260a0a"
      },
      "execution_count": 283,
      "outputs": [
        {
          "output_type": "execute_result",
          "data": {
            "text/plain": [
              "(tensor([[1],\n",
              "         [2],\n",
              "         [5]]),\n",
              " torch.Size([3, 1]))"
            ]
          },
          "metadata": {},
          "execution_count": 283
        }
      ]
    },
    {
      "cell_type": "code",
      "source": [
        "b= torch.arange(1,21,1)\n",
        "b"
      ],
      "metadata": {
        "colab": {
          "base_uri": "https://localhost:8080/"
        },
        "id": "xmzoGWzfglVb",
        "outputId": "958d475f-faf7-4aab-94e5-c6bb37612017"
      },
      "execution_count": 284,
      "outputs": [
        {
          "output_type": "execute_result",
          "data": {
            "text/plain": [
              "tensor([ 1,  2,  3,  4,  5,  6,  7,  8,  9, 10, 11, 12, 13, 14, 15, 16, 17, 18,\n",
              "        19, 20])"
            ]
          },
          "metadata": {},
          "execution_count": 284
        }
      ]
    },
    {
      "cell_type": "code",
      "source": [
        "b_0 =b.reshape(2,10)\n",
        "b_0, b_0.shape"
      ],
      "metadata": {
        "colab": {
          "base_uri": "https://localhost:8080/"
        },
        "id": "pYrv5rDzkAlW",
        "outputId": "ad2eb2e8-9631-4202-c29d-09bc0a2b0932"
      },
      "execution_count": 285,
      "outputs": [
        {
          "output_type": "execute_result",
          "data": {
            "text/plain": [
              "(tensor([[ 1,  2,  3,  4,  5,  6,  7,  8,  9, 10],\n",
              "         [11, 12, 13, 14, 15, 16, 17, 18, 19, 20]]),\n",
              " torch.Size([2, 10]))"
            ]
          },
          "metadata": {},
          "execution_count": 285
        }
      ]
    },
    {
      "cell_type": "markdown",
      "source": [
        "Shape should be compatible. Like factors"
      ],
      "metadata": {
        "id": "SD2PYbf9kWBt"
      }
    },
    {
      "cell_type": "code",
      "source": [
        "\n",
        "z=b.view(4,5)\n",
        "b,z,z.shape"
      ],
      "metadata": {
        "colab": {
          "base_uri": "https://localhost:8080/"
        },
        "id": "4vzWUUSbkc2W",
        "outputId": "d746efa1-3b3b-4c1c-a57e-43457949c813"
      },
      "execution_count": 286,
      "outputs": [
        {
          "output_type": "execute_result",
          "data": {
            "text/plain": [
              "(tensor([ 1,  2,  3,  4,  5,  6,  7,  8,  9, 10, 11, 12, 13, 14, 15, 16, 17, 18,\n",
              "         19, 20]),\n",
              " tensor([[ 1,  2,  3,  4,  5],\n",
              "         [ 6,  7,  8,  9, 10],\n",
              "         [11, 12, 13, 14, 15],\n",
              "         [16, 17, 18, 19, 20]]),\n",
              " torch.Size([4, 5]))"
            ]
          },
          "metadata": {},
          "execution_count": 286
        }
      ]
    },
    {
      "cell_type": "code",
      "source": [
        "z[:,2]=2\n",
        "z,b\n"
      ],
      "metadata": {
        "colab": {
          "base_uri": "https://localhost:8080/"
        },
        "id": "a2w-_pYklF0F",
        "outputId": "33572dfe-1dd8-4585-b042-206e478b43aa"
      },
      "execution_count": 287,
      "outputs": [
        {
          "output_type": "execute_result",
          "data": {
            "text/plain": [
              "(tensor([[ 1,  2,  2,  4,  5],\n",
              "         [ 6,  7,  2,  9, 10],\n",
              "         [11, 12,  2, 14, 15],\n",
              "         [16, 17,  2, 19, 20]]),\n",
              " tensor([ 1,  2,  2,  4,  5,  6,  7,  2,  9, 10, 11, 12,  2, 14, 15, 16, 17,  2,\n",
              "         19, 20]))"
            ]
          },
          "metadata": {},
          "execution_count": 287
        }
      ]
    },
    {
      "cell_type": "markdown",
      "source": [
        "Changing reshaped array changes the original one because the tensors share the same memory as the original"
      ],
      "metadata": {
        "id": "zoX6MC4AnHw4"
      }
    },
    {
      "cell_type": "code",
      "source": [
        "#stack; concatanate tensors along a new dimension\n",
        "#equal sized tensors,dim  Has to be between 0 and the number of dimensions of concatenated tensors (inclusive)\n",
        "s = torch.stack([a,a,a],dim=0)\n",
        "s\n"
      ],
      "metadata": {
        "colab": {
          "base_uri": "https://localhost:8080/"
        },
        "id": "5je7VP5tnQvw",
        "outputId": "43e66f21-0bb6-48ba-c1d8-4e768e1f0b71"
      },
      "execution_count": 288,
      "outputs": [
        {
          "output_type": "execute_result",
          "data": {
            "text/plain": [
              "tensor([[1, 2, 5],\n",
              "        [1, 2, 5],\n",
              "        [1, 2, 5]])"
            ]
          },
          "metadata": {},
          "execution_count": 288
        }
      ]
    },
    {
      "cell_type": "code",
      "source": [
        "#squeeze; remove extra dimensions\n",
        "x =torch.zeros(2,1,2,1,2)\n",
        "y=torch.squeeze(x)\n",
        "x.size(), y.size()"
      ],
      "metadata": {
        "colab": {
          "base_uri": "https://localhost:8080/"
        },
        "id": "3DIAxqJ21MG0",
        "outputId": "a095fad3-e038-48cd-9e7f-bf4514fd0cdf"
      },
      "execution_count": 289,
      "outputs": [
        {
          "output_type": "execute_result",
          "data": {
            "text/plain": [
              "(torch.Size([2, 1, 2, 1, 2]), torch.Size([2, 2, 2]))"
            ]
          },
          "metadata": {},
          "execution_count": 289
        }
      ]
    },
    {
      "cell_type": "code",
      "source": [
        "m=torch.squeeze(x,0)#no change\n",
        "n =torch.squeeze(x,1)# 1 dim reduce\n",
        "o=torch.squeeze(x,2) #no change\n",
        "p=torch.squeeze(x,3) # 1 dim reduce\n",
        "q=torch.squeeze(x,4) #no change\n",
        "m.shape,n.shape,o.shape,p.shape,q.shape"
      ],
      "metadata": {
        "colab": {
          "base_uri": "https://localhost:8080/"
        },
        "id": "3gvYPXXv2jp6",
        "outputId": "bb867362-2be1-4ba2-a259-5b1324df2714"
      },
      "execution_count": 290,
      "outputs": [
        {
          "output_type": "execute_result",
          "data": {
            "text/plain": [
              "(torch.Size([2, 1, 2, 1, 2]),\n",
              " torch.Size([2, 2, 1, 2]),\n",
              " torch.Size([2, 1, 2, 1, 2]),\n",
              " torch.Size([2, 1, 2, 2]),\n",
              " torch.Size([2, 1, 2, 1, 2]))"
            ]
          },
          "metadata": {},
          "execution_count": 290
        }
      ]
    },
    {
      "cell_type": "code",
      "source": [
        "y = torch.squeeze(x, (1, 2, 3))\n",
        "y.shape, y"
      ],
      "metadata": {
        "colab": {
          "base_uri": "https://localhost:8080/"
        },
        "id": "kAf1v_opvna0",
        "outputId": "286e8383-3ee2-4227-9911-24eae25405d0"
      },
      "execution_count": 291,
      "outputs": [
        {
          "output_type": "execute_result",
          "data": {
            "text/plain": [
              "(torch.Size([2, 2, 2]),\n",
              " tensor([[[0., 0.],\n",
              "          [0., 0.]],\n",
              " \n",
              "         [[0., 0.],\n",
              "          [0., 0.]]]))"
            ]
          },
          "metadata": {},
          "execution_count": 291
        }
      ]
    },
    {
      "cell_type": "code",
      "source": [
        "#unsqueeze; adds a 1 dim to target tensor at specific dim\n",
        "print(f\"Previous target:{y}\")\n",
        "print(f\"Previous target shape:{y.shape}\")\n",
        "#y_unsqueezed = torch.unsqueeze(y,dim=2)\n",
        "y_unsqueezed = y.unsqueeze(dim=2)\n",
        "print(f\"New target:{y_unsqueezed}\")\n",
        "print(f\"New target shape:{y_unsqueezed.shape}\") #new dim gets added to the dim index place\n"
      ],
      "metadata": {
        "colab": {
          "base_uri": "https://localhost:8080/"
        },
        "id": "VVIYm3wyvnld",
        "outputId": "4e221ab1-8d32-4242-f647-9d76e4172a1a"
      },
      "execution_count": 292,
      "outputs": [
        {
          "output_type": "stream",
          "name": "stdout",
          "text": [
            "Previous target:tensor([[[0., 0.],\n",
            "         [0., 0.]],\n",
            "\n",
            "        [[0., 0.],\n",
            "         [0., 0.]]])\n",
            "Previous target shape:torch.Size([2, 2, 2])\n",
            "New target:tensor([[[[0., 0.]],\n",
            "\n",
            "         [[0., 0.]]],\n",
            "\n",
            "\n",
            "        [[[0., 0.]],\n",
            "\n",
            "         [[0., 0.]]]])\n",
            "New target shape:torch.Size([2, 2, 1, 2])\n"
          ]
        }
      ]
    },
    {
      "cell_type": "code",
      "source": [
        "#torch.permute: rearrange dims of tensor in specific order\n",
        "Tensor.size(),Tensor"
      ],
      "metadata": {
        "colab": {
          "base_uri": "https://localhost:8080/"
        },
        "id": "BZh3LHNIxLGu",
        "outputId": "a423f0aa-e45a-4530-ee00-380ceda58fb0"
      },
      "execution_count": 293,
      "outputs": [
        {
          "output_type": "execute_result",
          "data": {
            "text/plain": [
              "(torch.Size([1, 3, 3]),\n",
              " tensor([[[1, 2, 3],\n",
              "          [3, 6, 9],\n",
              "          [2, 5, 6]]]))"
            ]
          },
          "metadata": {},
          "execution_count": 293
        }
      ]
    },
    {
      "cell_type": "code",
      "source": [
        "torch.permute(Tensor,(2,0,1)).size(), torch.permute(Tensor,(2,0,1))"
      ],
      "metadata": {
        "colab": {
          "base_uri": "https://localhost:8080/"
        },
        "id": "zs8p1F8nHOjD",
        "outputId": "bb75be8b-1954-4398-8d0f-59dec483f2e9"
      },
      "execution_count": 294,
      "outputs": [
        {
          "output_type": "execute_result",
          "data": {
            "text/plain": [
              "(torch.Size([3, 1, 3]),\n",
              " tensor([[[1, 3, 2]],\n",
              " \n",
              "         [[2, 6, 5]],\n",
              " \n",
              "         [[3, 9, 6]]]))"
            ]
          },
          "metadata": {},
          "execution_count": 294
        }
      ]
    },
    {
      "cell_type": "code",
      "source": [
        "#same memory as original tensor\n",
        "Tensor[0][0][0]=5\n",
        "torch.permute(Tensor,(2,0,1))"
      ],
      "metadata": {
        "colab": {
          "base_uri": "https://localhost:8080/"
        },
        "id": "x3OJTUXkKfeN",
        "outputId": "9d17b5af-673a-4d8c-9a8f-01156c1e4181"
      },
      "execution_count": 295,
      "outputs": [
        {
          "output_type": "execute_result",
          "data": {
            "text/plain": [
              "tensor([[[5, 3, 2]],\n",
              "\n",
              "        [[2, 6, 5]],\n",
              "\n",
              "        [[3, 9, 6]]])"
            ]
          },
          "metadata": {},
          "execution_count": 295
        }
      ]
    },
    {
      "cell_type": "markdown",
      "source": [
        "###Indexing"
      ],
      "metadata": {
        "id": "3Ra5qBAlLf5o"
      }
    },
    {
      "cell_type": "code",
      "source": [
        " v=torch.arange(1,10).reshape(1,3,3)\n",
        " v,v.shape"
      ],
      "metadata": {
        "colab": {
          "base_uri": "https://localhost:8080/"
        },
        "id": "6FAfUHM2Ljog",
        "outputId": "894ade0f-ec40-436e-c3ae-1c7b859293bc"
      },
      "execution_count": 296,
      "outputs": [
        {
          "output_type": "execute_result",
          "data": {
            "text/plain": [
              "(tensor([[[1, 2, 3],\n",
              "          [4, 5, 6],\n",
              "          [7, 8, 9]]]),\n",
              " torch.Size([1, 3, 3]))"
            ]
          },
          "metadata": {},
          "execution_count": 296
        }
      ]
    },
    {
      "cell_type": "code",
      "source": [
        "v[0]"
      ],
      "metadata": {
        "colab": {
          "base_uri": "https://localhost:8080/"
        },
        "id": "ngbw4F9dPdBM",
        "outputId": "33782eb5-08bd-4303-e8bb-e92f5b5cda20"
      },
      "execution_count": 297,
      "outputs": [
        {
          "output_type": "execute_result",
          "data": {
            "text/plain": [
              "tensor([[1, 2, 3],\n",
              "        [4, 5, 6],\n",
              "        [7, 8, 9]])"
            ]
          },
          "metadata": {},
          "execution_count": 297
        }
      ]
    },
    {
      "cell_type": "code",
      "source": [
        "v[0][1]"
      ],
      "metadata": {
        "colab": {
          "base_uri": "https://localhost:8080/"
        },
        "id": "Ln0FLfXQPlFL",
        "outputId": "66a1184a-1fe2-4a72-e198-ed87623efae9"
      },
      "execution_count": 298,
      "outputs": [
        {
          "output_type": "execute_result",
          "data": {
            "text/plain": [
              "tensor([4, 5, 6])"
            ]
          },
          "metadata": {},
          "execution_count": 298
        }
      ]
    },
    {
      "cell_type": "code",
      "source": [
        "v[0][0][0]"
      ],
      "metadata": {
        "colab": {
          "base_uri": "https://localhost:8080/"
        },
        "id": "p8nUAYzEPvSG",
        "outputId": "d947598d-a871-419a-fd8f-2edd6e1cc79d"
      },
      "execution_count": 299,
      "outputs": [
        {
          "output_type": "execute_result",
          "data": {
            "text/plain": [
              "tensor(1)"
            ]
          },
          "metadata": {},
          "execution_count": 299
        }
      ]
    },
    {
      "cell_type": "code",
      "source": [
        "v[:,0] #all in 1st dim, 0th in 2nd dim"
      ],
      "metadata": {
        "colab": {
          "base_uri": "https://localhost:8080/"
        },
        "id": "P_0bsgKdPze1",
        "outputId": "1f3ef314-41bf-4ac6-a41c-ca80f4b7fea9"
      },
      "execution_count": 300,
      "outputs": [
        {
          "output_type": "execute_result",
          "data": {
            "text/plain": [
              "tensor([[1, 2, 3]])"
            ]
          },
          "metadata": {},
          "execution_count": 300
        }
      ]
    },
    {
      "cell_type": "code",
      "source": [
        "v[:,:,1]"
      ],
      "metadata": {
        "colab": {
          "base_uri": "https://localhost:8080/"
        },
        "id": "A14XAzVlQKbt",
        "outputId": "71969365-0b67-4bfa-e58a-85dcb14e85f2"
      },
      "execution_count": 301,
      "outputs": [
        {
          "output_type": "execute_result",
          "data": {
            "text/plain": [
              "tensor([[2, 5, 8]])"
            ]
          },
          "metadata": {},
          "execution_count": 301
        }
      ]
    },
    {
      "cell_type": "code",
      "source": [
        "v[:,1,1]"
      ],
      "metadata": {
        "colab": {
          "base_uri": "https://localhost:8080/"
        },
        "id": "ee2IbCPNQrG1",
        "outputId": "ced3669c-fb4c-417e-bc11-f7126467499f"
      },
      "execution_count": 302,
      "outputs": [
        {
          "output_type": "execute_result",
          "data": {
            "text/plain": [
              "tensor([5])"
            ]
          },
          "metadata": {},
          "execution_count": 302
        }
      ]
    },
    {
      "cell_type": "code",
      "source": [
        "v[0,0,:]"
      ],
      "metadata": {
        "colab": {
          "base_uri": "https://localhost:8080/"
        },
        "id": "d7PLJAIoQzgu",
        "outputId": "e2f11a3f-139b-4f92-b842-44d23f1aabb8"
      },
      "execution_count": 303,
      "outputs": [
        {
          "output_type": "execute_result",
          "data": {
            "text/plain": [
              "tensor([1, 2, 3])"
            ]
          },
          "metadata": {},
          "execution_count": 303
        }
      ]
    },
    {
      "cell_type": "code",
      "source": [
        "v[:,:,2]"
      ],
      "metadata": {
        "colab": {
          "base_uri": "https://localhost:8080/"
        },
        "id": "5yDnbZkrRGsE",
        "outputId": "0d38874a-0501-47bf-a9ed-b6a1c6fabdd1"
      },
      "execution_count": 304,
      "outputs": [
        {
          "output_type": "execute_result",
          "data": {
            "text/plain": [
              "tensor([[3, 6, 9]])"
            ]
          },
          "metadata": {},
          "execution_count": 304
        }
      ]
    },
    {
      "cell_type": "markdown",
      "source": [
        "###PyTorch & Numpy\n",
        "\n",
        "Numpy --> Pytorch : ```torch.from_numpy(ndarray)```\n",
        "\n",
        "Pytorch --> Numpy : ```torch.Tensor.numpy```"
      ],
      "metadata": {
        "id": "rQrpjNTzShFE"
      }
    },
    {
      "cell_type": "code",
      "source": [
        "array=np.arange(1.0,8.0)\n",
        "te = torch.from_numpy(array)\n",
        "array,te"
      ],
      "metadata": {
        "colab": {
          "base_uri": "https://localhost:8080/"
        },
        "id": "x1GMIQI9S26e",
        "outputId": "02ffdfdf-ca23-4272-ba59-3c09be122209"
      },
      "execution_count": 305,
      "outputs": [
        {
          "output_type": "execute_result",
          "data": {
            "text/plain": [
              "(array([1., 2., 3., 4., 5., 6., 7.]),\n",
              " tensor([1., 2., 3., 4., 5., 6., 7.], dtype=torch.float64))"
            ]
          },
          "metadata": {},
          "execution_count": 305
        }
      ]
    },
    {
      "cell_type": "code",
      "source": [
        "# we dont get Pytorch default datattype; getting float64 instead of float32, getting numpys default"
      ],
      "metadata": {
        "id": "iJW8CPBPS1Cd"
      },
      "execution_count": 306,
      "outputs": []
    },
    {
      "cell_type": "code",
      "source": [
        "array=np.arange(1.0,8.0)\n",
        "te = torch.from_numpy(array).type(torch.float32).dtype\n",
        "array,te"
      ],
      "metadata": {
        "colab": {
          "base_uri": "https://localhost:8080/"
        },
        "id": "mprMxUjUWhaC",
        "outputId": "4e2c771d-4d32-4dde-fdda-0b8b2a30cae7"
      },
      "execution_count": 307,
      "outputs": [
        {
          "output_type": "execute_result",
          "data": {
            "text/plain": [
              "(array([1., 2., 3., 4., 5., 6., 7.]), torch.float32)"
            ]
          },
          "metadata": {},
          "execution_count": 307
        }
      ]
    },
    {
      "cell_type": "code",
      "source": [
        "#change array values in numpy array ---> doesn't change in tensor\n",
        "array=np.arange(1.0,8.0)\n",
        "te = torch.from_numpy(array)\n",
        "\n",
        "array=array+1\n",
        "array,te"
      ],
      "metadata": {
        "colab": {
          "base_uri": "https://localhost:8080/"
        },
        "id": "_XEOJaxJWy13",
        "outputId": "69cfa680-eaa7-4f09-ae4f-927d109398fe"
      },
      "execution_count": 308,
      "outputs": [
        {
          "output_type": "execute_result",
          "data": {
            "text/plain": [
              "(array([2., 3., 4., 5., 6., 7., 8.]),\n",
              " tensor([1., 2., 3., 4., 5., 6., 7.], dtype=torch.float64))"
            ]
          },
          "metadata": {},
          "execution_count": 308
        }
      ]
    },
    {
      "cell_type": "code",
      "source": [
        "\n",
        "te1 = torch.ones(7)\n",
        "numpy_te =te1.numpy()\n",
        "te1, numpy_te"
      ],
      "metadata": {
        "colab": {
          "base_uri": "https://localhost:8080/"
        },
        "id": "zJ8ksh9NXoGi",
        "outputId": "dc380333-dc3e-412f-feaa-fa5367205d90"
      },
      "execution_count": 309,
      "outputs": [
        {
          "output_type": "execute_result",
          "data": {
            "text/plain": [
              "(tensor([1., 1., 1., 1., 1., 1., 1.]),\n",
              " array([1., 1., 1., 1., 1., 1., 1.], dtype=float32))"
            ]
          },
          "metadata": {},
          "execution_count": 309
        }
      ]
    },
    {
      "cell_type": "code",
      "source": [
        "#when tensor changed numpy doesnt change; dont share the memory\n",
        "te1 = torch.ones(7)\n",
        "numpy_te =te1.numpy()\n",
        "te1=te1+1\n",
        "te1, numpy_te"
      ],
      "metadata": {
        "colab": {
          "base_uri": "https://localhost:8080/"
        },
        "id": "W7mSdLNpZRfj",
        "outputId": "f68bed9e-8725-4fc4-d390-ee3206c5b989"
      },
      "execution_count": 310,
      "outputs": [
        {
          "output_type": "execute_result",
          "data": {
            "text/plain": [
              "(tensor([2., 2., 2., 2., 2., 2., 2.]),\n",
              " array([1., 1., 1., 1., 1., 1., 1.], dtype=float32))"
            ]
          },
          "metadata": {},
          "execution_count": 310
        }
      ]
    },
    {
      "cell_type": "code",
      "source": [
        "#Pytorch reproducability\n",
        "#to reduce randomness; random seed\n",
        "#it flavoures randomness."
      ],
      "metadata": {
        "id": "ypDgKsGOZikE"
      },
      "execution_count": 311,
      "outputs": []
    },
    {
      "cell_type": "code",
      "source": [
        "torch.rand(3,3)"
      ],
      "metadata": {
        "colab": {
          "base_uri": "https://localhost:8080/"
        },
        "id": "Pzucs1n8bdIi",
        "outputId": "a4eb186e-c646-4ff0-df1d-c0a81f5dc50c"
      },
      "execution_count": 313,
      "outputs": [
        {
          "output_type": "execute_result",
          "data": {
            "text/plain": [
              "tensor([[0.6694, 0.0387, 0.7082],\n",
              "        [0.9740, 0.9805, 0.3244],\n",
              "        [0.9757, 0.9614, 0.9582]])"
            ]
          },
          "metadata": {},
          "execution_count": 313
        }
      ]
    },
    {
      "cell_type": "code",
      "source": [
        "#random reproducable tensors : make them roughly equal\n",
        "RANDOM_SEED =42\n",
        "torch.manual_seed(RANDOM_SEED)\n",
        "rd1 = torch.rand(3,4)\n",
        "\n",
        "torch.manual_seed(RANDOM_SEED)\n",
        "rd2 =torch.rand(3,4)\n",
        "rd1 ,rd2"
      ],
      "metadata": {
        "colab": {
          "base_uri": "https://localhost:8080/"
        },
        "id": "sDm1VDI7b8Wz",
        "outputId": "4570a59e-9391-40c5-b6f1-bfd9eaf97dad"
      },
      "execution_count": 317,
      "outputs": [
        {
          "output_type": "execute_result",
          "data": {
            "text/plain": [
              "(tensor([[0.8823, 0.9150, 0.3829, 0.9593],\n",
              "         [0.3904, 0.6009, 0.2566, 0.7936],\n",
              "         [0.9408, 0.1332, 0.9346, 0.5936]]),\n",
              " tensor([[0.8823, 0.9150, 0.3829, 0.9593],\n",
              "         [0.3904, 0.6009, 0.2566, 0.7936],\n",
              "         [0.9408, 0.1332, 0.9346, 0.5936]]))"
            ]
          },
          "metadata": {},
          "execution_count": 317
        }
      ]
    },
    {
      "cell_type": "code",
      "source": [
        "   device =\"cuda\" if torch.cuda.is_available() else \"cpu\"\n",
        "   device"
      ],
      "metadata": {
        "colab": {
          "base_uri": "https://localhost:8080/",
          "height": 35
        },
        "id": "vhZ66QqLc7--",
        "outputId": "bdc97418-3af3-4436-8040-e106e9e39f3c"
      },
      "execution_count": 319,
      "outputs": [
        {
          "output_type": "execute_result",
          "data": {
            "text/plain": [
              "'cpu'"
            ],
            "application/vnd.google.colaboratory.intrinsic+json": {
              "type": "string"
            }
          },
          "metadata": {},
          "execution_count": 319
        }
      ]
    },
    {
      "cell_type": "code",
      "source": [
        "torch.cuda.device_count()"
      ],
      "metadata": {
        "colab": {
          "base_uri": "https://localhost:8080/"
        },
        "id": "bqYURoKMi-vI",
        "outputId": "3e97c0ff-608a-47c8-ab0b-e50569eb15b3"
      },
      "execution_count": 320,
      "outputs": [
        {
          "output_type": "execute_result",
          "data": {
            "text/plain": [
              "0"
            ]
          },
          "metadata": {},
          "execution_count": 320
        }
      ]
    },
    {
      "cell_type": "code",
      "source": [],
      "metadata": {
        "id": "POCCxORKjJlH"
      },
      "execution_count": null,
      "outputs": []
    }
  ]
}