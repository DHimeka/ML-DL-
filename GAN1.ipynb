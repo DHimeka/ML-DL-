{
  "nbformat": 4,
  "nbformat_minor": 0,
  "metadata": {
    "colab": {
      "provenance": [],
      "authorship_tag": "ABX9TyNhJ0I7f38axON+70ijvbG5",
      "include_colab_link": true
    },
    "kernelspec": {
      "name": "python3",
      "display_name": "Python 3"
    },
    "language_info": {
      "name": "python"
    }
  },
  "cells": [
    {
      "cell_type": "markdown",
      "metadata": {
        "id": "view-in-github",
        "colab_type": "text"
      },
      "source": [
        "<a href=\"https://colab.research.google.com/github/DHimeka/ML-DL-/blob/main/GAN1.ipynb\" target=\"_parent\"><img src=\"https://colab.research.google.com/assets/colab-badge.svg\" alt=\"Open In Colab\"/></a>"
      ]
    },
    {
      "cell_type": "code",
      "execution_count": 11,
      "metadata": {
        "id": "YMsLCvtFHapu"
      },
      "outputs": [],
      "source": [
        "import torch\n",
        "import torch.nn as nn\n",
        "import torch.optim as optim\n",
        "import torchvision\n",
        "import torchvision.datasets as datasets\n",
        "from torch.utils.data import DataLoader\n",
        "import torchvision.transforms as transforms\n",
        "from torch.utils.tensorboard import SummaryWriter\n"
      ]
    },
    {
      "cell_type": "code",
      "source": [
        "class Discriminator(nn.Module):\n",
        "    def __init__(self, in_features):\n",
        "        super().__init__()\n",
        "        self.disc = nn.Sequential(\n",
        "            nn.Linear(in_features, 128),\n",
        "            nn.LeakyReLU(0.01),\n",
        "            nn.Linear(128, 1),\n",
        "            nn.Sigmoid(),\n",
        "        )\n",
        "\n",
        "    def forward(self, x):\n",
        "        return self.disc(x)\n"
      ],
      "metadata": {
        "id": "6WfjzKaYIS56"
      },
      "execution_count": 12,
      "outputs": []
    },
    {
      "cell_type": "code",
      "source": [
        "class Generator(nn.Module):\n",
        "    def __init__(self, z_dim, img_dim):\n",
        "        super().__init__()\n",
        "        self.gen = nn.Sequential(\n",
        "            nn.Linear(z_dim, 256),\n",
        "            nn.LeakyReLU(0.01),\n",
        "            nn.Linear(256, img_dim),\n",
        "            nn.Tanh(),  # normalize inputs to [-1, 1] so make outputs [-1, 1]\n",
        "        )\n",
        "\n",
        "    def forward(self, x):\n",
        "        return self.gen(x)\n"
      ],
      "metadata": {
        "id": "OS1FDus6Kdhl"
      },
      "execution_count": 13,
      "outputs": []
    },
    {
      "cell_type": "code",
      "source": [
        "# Hyperparameters etc.\n",
        "device = \"cuda\" if torch.cuda.is_available() else \"cpu\"\n",
        "lr = 3e-4\n",
        "z_dim = 64\n",
        "image_dim = 28 * 28 * 1  # 784\n",
        "batch_size = 32\n",
        "num_epochs = 50\n",
        "\n",
        "disc = Discriminator(image_dim).to(device)\n",
        "gen = Generator(z_dim, image_dim).to(device)\n",
        "fixed_noise = torch.randn((batch_size, z_dim)).to(device)\n",
        "transforms = transforms.Compose(\n",
        "    [\n",
        "        transforms.ToTensor(),\n",
        "        transforms.Normalize((0.5,), (0.5,)),\n",
        "    ]\n",
        ")\n",
        "\n",
        "dataset = datasets.MNIST(root=\"dataset/\", transform=transforms, download=True)\n",
        "loader = DataLoader(dataset, batch_size=batch_size, shuffle=True)\n",
        "opt_disc = optim.Adam(disc.parameters(), lr=lr)\n",
        "opt_gen = optim.Adam(gen.parameters(), lr=lr)\n",
        "criterion = nn.BCELoss()\n",
        "writer_fake = SummaryWriter(f\"logs/fake\")\n",
        "writer_real = SummaryWriter(f\"logs/real\")\n",
        "step = 0"
      ],
      "metadata": {
        "id": "AYN3SzWULKOG"
      },
      "execution_count": 14,
      "outputs": []
    },
    {
      "cell_type": "code",
      "source": [
        "for epoch in range(num_epochs):\n",
        "    for batch_idx, (real, _) in enumerate(loader):\n",
        "        real = real.view(-1, 784).to(device)\n",
        "        batch_size = real.shape[0]\n",
        "\n",
        "        ### Train Discriminator: max log(D(x)) + log(1 - D(G(z)))\n",
        "        noise = torch.randn(batch_size, z_dim).to(device)\n",
        "        fake = gen(noise)\n",
        "        disc_real = disc(real).view(-1)\n",
        "        lossD_real = criterion(disc_real, torch.ones_like(disc_real))\n",
        "        disc_fake = disc(fake).view(-1)\n",
        "        lossD_fake = criterion(disc_fake, torch.zeros_like(disc_fake))\n",
        "        lossD = (lossD_real + lossD_fake) / 2\n",
        "        disc.zero_grad()\n",
        "        lossD.backward(retain_graph=True)\n",
        "        opt_disc.step()\n",
        "\n",
        "        ### Train Generator: min log(1 - D(G(z))) <-> max log(D(G(z))\n",
        "        # where the second option of maximizing doesn't suffer from\n",
        "        # saturating gradients\n",
        "        output = disc(fake).view(-1)\n",
        "        lossG = criterion(output, torch.ones_like(output))\n",
        "        gen.zero_grad()\n",
        "        lossG.backward()\n",
        "        opt_gen.step()\n",
        "\n",
        "        if batch_idx == 0:\n",
        "            print(\n",
        "                f\"Epoch [{epoch}/{num_epochs}] Batch {batch_idx}/{len(loader)} \\\n",
        "                      Loss D: {lossD:.4f}, loss G: {lossG:.4f}\"\n",
        "            )\n",
        "\n",
        "            with torch.no_grad():\n",
        "                fake = gen(fixed_noise).reshape(-1, 1, 28, 28)\n",
        "                data = real.reshape(-1, 1, 28, 28)\n",
        "                img_grid_fake = torchvision.utils.make_grid(fake, normalize=True)\n",
        "                img_grid_real = torchvision.utils.make_grid(data, normalize=True)\n",
        "\n",
        "                writer_fake.add_image(\n",
        "                    \"Mnist Fake Images\", img_grid_fake, global_step=step\n",
        "                )\n",
        "                writer_real.add_image(\n",
        "                    \"Mnist Real Images\", img_grid_real, global_step=step\n",
        "                )\n",
        "                step += 1"
      ],
      "metadata": {
        "colab": {
          "base_uri": "https://localhost:8080/"
        },
        "id": "_vVaszagxPj7",
        "outputId": "1d4320c3-a752-4292-813b-bb79daa5fb3a"
      },
      "execution_count": 15,
      "outputs": [
        {
          "output_type": "stream",
          "name": "stdout",
          "text": [
            "Epoch [0/50] Batch 0/1875                       Loss D: 0.6592, loss G: 0.6733\n",
            "Epoch [1/50] Batch 0/1875                       Loss D: 0.3773, loss G: 1.3940\n",
            "Epoch [2/50] Batch 0/1875                       Loss D: 0.2807, loss G: 1.6925\n",
            "Epoch [3/50] Batch 0/1875                       Loss D: 0.5756, loss G: 1.0130\n",
            "Epoch [4/50] Batch 0/1875                       Loss D: 0.7003, loss G: 0.9359\n",
            "Epoch [5/50] Batch 0/1875                       Loss D: 0.8021, loss G: 0.8370\n",
            "Epoch [6/50] Batch 0/1875                       Loss D: 0.6509, loss G: 0.9502\n",
            "Epoch [7/50] Batch 0/1875                       Loss D: 0.4126, loss G: 1.5134\n",
            "Epoch [8/50] Batch 0/1875                       Loss D: 0.5862, loss G: 0.9782\n",
            "Epoch [9/50] Batch 0/1875                       Loss D: 0.6082, loss G: 1.3068\n",
            "Epoch [10/50] Batch 0/1875                       Loss D: 0.3870, loss G: 1.4804\n",
            "Epoch [11/50] Batch 0/1875                       Loss D: 0.6055, loss G: 1.1840\n",
            "Epoch [12/50] Batch 0/1875                       Loss D: 0.6275, loss G: 1.3549\n",
            "Epoch [13/50] Batch 0/1875                       Loss D: 0.6220, loss G: 1.4536\n",
            "Epoch [14/50] Batch 0/1875                       Loss D: 0.8031, loss G: 0.8522\n",
            "Epoch [15/50] Batch 0/1875                       Loss D: 0.6419, loss G: 1.0907\n",
            "Epoch [16/50] Batch 0/1875                       Loss D: 0.4737, loss G: 1.4718\n",
            "Epoch [17/50] Batch 0/1875                       Loss D: 0.3759, loss G: 1.6139\n",
            "Epoch [18/50] Batch 0/1875                       Loss D: 0.2931, loss G: 1.9716\n",
            "Epoch [19/50] Batch 0/1875                       Loss D: 0.3749, loss G: 1.8954\n",
            "Epoch [20/50] Batch 0/1875                       Loss D: 0.5038, loss G: 1.3365\n",
            "Epoch [21/50] Batch 0/1875                       Loss D: 0.5096, loss G: 2.1258\n",
            "Epoch [22/50] Batch 0/1875                       Loss D: 0.7022, loss G: 0.9539\n",
            "Epoch [23/50] Batch 0/1875                       Loss D: 0.5516, loss G: 1.6651\n",
            "Epoch [24/50] Batch 0/1875                       Loss D: 0.5128, loss G: 1.6062\n",
            "Epoch [25/50] Batch 0/1875                       Loss D: 0.6953, loss G: 1.8464\n",
            "Epoch [26/50] Batch 0/1875                       Loss D: 0.5679, loss G: 1.3978\n",
            "Epoch [27/50] Batch 0/1875                       Loss D: 0.4059, loss G: 2.0285\n",
            "Epoch [28/50] Batch 0/1875                       Loss D: 0.5189, loss G: 1.6356\n",
            "Epoch [29/50] Batch 0/1875                       Loss D: 0.5414, loss G: 1.3395\n",
            "Epoch [30/50] Batch 0/1875                       Loss D: 0.6174, loss G: 1.7333\n",
            "Epoch [31/50] Batch 0/1875                       Loss D: 0.6878, loss G: 0.9158\n",
            "Epoch [32/50] Batch 0/1875                       Loss D: 0.7168, loss G: 1.1123\n",
            "Epoch [33/50] Batch 0/1875                       Loss D: 0.6322, loss G: 1.3056\n",
            "Epoch [34/50] Batch 0/1875                       Loss D: 0.5920, loss G: 1.4105\n",
            "Epoch [35/50] Batch 0/1875                       Loss D: 0.5830, loss G: 1.5392\n",
            "Epoch [36/50] Batch 0/1875                       Loss D: 0.6866, loss G: 1.0296\n",
            "Epoch [37/50] Batch 0/1875                       Loss D: 0.7765, loss G: 0.9847\n",
            "Epoch [38/50] Batch 0/1875                       Loss D: 0.5498, loss G: 1.4688\n",
            "Epoch [39/50] Batch 0/1875                       Loss D: 0.5520, loss G: 1.4942\n",
            "Epoch [40/50] Batch 0/1875                       Loss D: 0.5343, loss G: 1.2905\n",
            "Epoch [41/50] Batch 0/1875                       Loss D: 0.7130, loss G: 0.9808\n",
            "Epoch [42/50] Batch 0/1875                       Loss D: 0.5576, loss G: 1.2669\n",
            "Epoch [43/50] Batch 0/1875                       Loss D: 0.4706, loss G: 1.4142\n",
            "Epoch [44/50] Batch 0/1875                       Loss D: 0.5691, loss G: 1.0646\n",
            "Epoch [45/50] Batch 0/1875                       Loss D: 0.6540, loss G: 1.0482\n",
            "Epoch [46/50] Batch 0/1875                       Loss D: 0.6358, loss G: 1.1409\n",
            "Epoch [47/50] Batch 0/1875                       Loss D: 0.7313, loss G: 1.1994\n",
            "Epoch [48/50] Batch 0/1875                       Loss D: 0.6722, loss G: 1.3325\n",
            "Epoch [49/50] Batch 0/1875                       Loss D: 0.6117, loss G: 1.0577\n"
          ]
        }
      ]
    },
    {
      "cell_type": "code",
      "source": [],
      "metadata": {
        "id": "z-dz3dpZzUC7"
      },
      "execution_count": 15,
      "outputs": []
    }
  ]
}